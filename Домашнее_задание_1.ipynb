{
  "cells": [
    {
      "cell_type": "markdown",
      "metadata": {
        "id": "Z4AOeTrJ7jF3"
      },
      "source": [
        "# Домашнее задание №1"
      ]
    },
    {
      "cell_type": "markdown",
      "metadata": {
        "id": "4id_9LKn16oX"
      },
      "source": [
        "Работаем с данными о прямых маркетинговых акциях, проводимых португальским банком. Для маркетинга использовались телефонные звонки. С одним клиентом иногда приходилось связываться несколько раз, чтобы выяснить, согласен ли он на продукт (банковский вклад с фиксированным сроком).\n",
        "\n",
        "Цель: обучить нейронную сеть, чтобы она делала предположение исходя из данных о клиенте о возможном подписании услуги."
      ]
    },
    {
      "cell_type": "markdown",
      "metadata": {
        "id": "2cgScMYvJ0iu"
      },
      "source": [
        "## 0. Подключение библиотек"
      ]
    },
    {
      "cell_type": "code",
      "execution_count": 1,
      "metadata": {
        "id": "RfN5CrQw3Kes"
      },
      "outputs": [],
      "source": [
        "#pip install ucimlrepo"
      ]
    },
    {
      "cell_type": "code",
      "execution_count": 2,
      "metadata": {
        "id": "OXMT0wFzN83l"
      },
      "outputs": [],
      "source": [
        "from ucimlrepo import fetch_ucirepo\n",
        "from matplotlib import pyplot as plt\n",
        "import seaborn as sns\n",
        "import pandas as pd\n",
        "import numpy as np\n",
        "from sklearn.model_selection import train_test_split\n",
        "from sklearn.model_selection import GridSearchCV\n",
        "from sklearn.preprocessing import LabelEncoder\n",
        "from sklearn.preprocessing import StandardScaler\n",
        "from sklearn.neighbors import KNeighborsRegressor\n",
        "from sklearn.metrics import mean_squared_error\n",
        "from sklearn.metrics import confusion_matrix\n",
        "pd.options.mode.chained_assignment = None"
      ]
    },
    {
      "cell_type": "markdown",
      "metadata": {
        "id": "FJQ-myd62kL4"
      },
      "source": [
        "## 1. Прочитать данные"
      ]
    },
    {
      "cell_type": "code",
      "execution_count": 3,
      "metadata": {
        "colab": {
          "base_uri": "https://localhost:8080/"
        },
        "id": "_dI7UsbU2nuh",
        "outputId": "545d9c91-380c-4a86-ca14-8782f2fd188d"
      },
      "outputs": [
        {
          "output_type": "stream",
          "name": "stdout",
          "text": [
            "{'uci_id': 222, 'name': 'Bank Marketing', 'repository_url': 'https://archive.ics.uci.edu/dataset/222/bank+marketing', 'data_url': 'https://archive.ics.uci.edu/static/public/222/data.csv', 'abstract': 'The data is related with direct marketing campaigns (phone calls) of a Portuguese banking institution. The classification goal is to predict if the client will subscribe a term deposit (variable y).', 'area': 'Business', 'tasks': ['Classification'], 'characteristics': ['Multivariate'], 'num_instances': 45211, 'num_features': 16, 'feature_types': ['Categorical', 'Integer'], 'demographics': ['Age', 'Occupation', 'Marital Status', 'Education Level'], 'target_col': ['y'], 'index_col': None, 'has_missing_values': 'yes', 'missing_values_symbol': 'NaN', 'year_of_dataset_creation': 2014, 'last_updated': 'Fri Aug 18 2023', 'dataset_doi': '10.24432/C5K306', 'creators': ['S. Moro', 'P. Rita', 'P. Cortez'], 'intro_paper': {'ID': 277, 'type': 'NATIVE', 'title': 'A data-driven approach to predict the success of bank telemarketing', 'authors': 'Sérgio Moro, P. Cortez, P. Rita', 'venue': 'Decision Support Systems', 'year': 2014, 'journal': None, 'DOI': '10.1016/j.dss.2014.03.001', 'URL': 'https://www.semanticscholar.org/paper/cab86052882d126d43f72108c6cb41b295cc8a9e', 'sha': None, 'corpus': None, 'arxiv': None, 'mag': None, 'acl': None, 'pmid': None, 'pmcid': None}, 'additional_info': {'summary': \"The data is related with direct marketing campaigns of a Portuguese banking institution. The marketing campaigns were based on phone calls. Often, more than one contact to the same client was required, in order to access if the product (bank term deposit) would be ('yes') or not ('no') subscribed. \\n\\nThere are four datasets: \\n1) bank-additional-full.csv with all examples (41188) and 20 inputs, ordered by date (from May 2008 to November 2010), very close to the data analyzed in [Moro et al., 2014]\\n2) bank-additional.csv with 10% of the examples (4119), randomly selected from 1), and 20 inputs.\\n3) bank-full.csv with all examples and 17 inputs, ordered by date (older version of this dataset with less inputs). \\n4) bank.csv with 10% of the examples and 17 inputs, randomly selected from 3 (older version of this dataset with less inputs). \\nThe smallest datasets are provided to test more computationally demanding machine learning algorithms (e.g., SVM). \\n\\nThe classification goal is to predict if the client will subscribe (yes/no) a term deposit (variable y).\", 'purpose': None, 'funded_by': None, 'instances_represent': None, 'recommended_data_splits': None, 'sensitive_data': None, 'preprocessing_description': None, 'variable_info': 'Input variables:\\n   # bank client data:\\n   1 - age (numeric)\\n   2 - job : type of job (categorical: \"admin.\",\"unknown\",\"unemployed\",\"management\",\"housemaid\",\"entrepreneur\",\"student\",\\n                                       \"blue-collar\",\"self-employed\",\"retired\",\"technician\",\"services\") \\n   3 - marital : marital status (categorical: \"married\",\"divorced\",\"single\"; note: \"divorced\" means divorced or widowed)\\n   4 - education (categorical: \"unknown\",\"secondary\",\"primary\",\"tertiary\")\\n   5 - default: has credit in default? (binary: \"yes\",\"no\")\\n   6 - balance: average yearly balance, in euros (numeric) \\n   7 - housing: has housing loan? (binary: \"yes\",\"no\")\\n   8 - loan: has personal loan? (binary: \"yes\",\"no\")\\n   # related with the last contact of the current campaign:\\n   9 - contact: contact communication type (categorical: \"unknown\",\"telephone\",\"cellular\") \\n  10 - day: last contact day of the month (numeric)\\n  11 - month: last contact month of year (categorical: \"jan\", \"feb\", \"mar\", ..., \"nov\", \"dec\")\\n  12 - duration: last contact duration, in seconds (numeric)\\n   # other attributes:\\n  13 - campaign: number of contacts performed during this campaign and for this client (numeric, includes last contact)\\n  14 - pdays: number of days that passed by after the client was last contacted from a previous campaign (numeric, -1 means client was not previously contacted)\\n  15 - previous: number of contacts performed before this campaign and for this client (numeric)\\n  16 - poutcome: outcome of the previous marketing campaign (categorical: \"unknown\",\"other\",\"failure\",\"success\")\\n\\n  Output variable (desired target):\\n  17 - y - has the client subscribed a term deposit? (binary: \"yes\",\"no\")\\n', 'citation': None}}\n",
            "           name     role         type      demographic  \\\n",
            "0           age  Feature      Integer              Age   \n",
            "1           job  Feature  Categorical       Occupation   \n",
            "2       marital  Feature  Categorical   Marital Status   \n",
            "3     education  Feature  Categorical  Education Level   \n",
            "4       default  Feature       Binary             None   \n",
            "5       balance  Feature      Integer             None   \n",
            "6       housing  Feature       Binary             None   \n",
            "7          loan  Feature       Binary             None   \n",
            "8       contact  Feature  Categorical             None   \n",
            "9   day_of_week  Feature         Date             None   \n",
            "10        month  Feature         Date             None   \n",
            "11     duration  Feature      Integer             None   \n",
            "12     campaign  Feature      Integer             None   \n",
            "13        pdays  Feature      Integer             None   \n",
            "14     previous  Feature      Integer             None   \n",
            "15     poutcome  Feature  Categorical             None   \n",
            "16            y   Target       Binary             None   \n",
            "\n",
            "                                          description  units missing_values  \n",
            "0                                                None   None             no  \n",
            "1   type of job (categorical: 'admin.','blue-colla...   None             no  \n",
            "2   marital status (categorical: 'divorced','marri...   None             no  \n",
            "3   (categorical: 'basic.4y','basic.6y','basic.9y'...   None             no  \n",
            "4                              has credit in default?   None             no  \n",
            "5                              average yearly balance  euros             no  \n",
            "6                                   has housing loan?   None             no  \n",
            "7                                  has personal loan?   None             no  \n",
            "8   contact communication type (categorical: 'cell...   None            yes  \n",
            "9                        last contact day of the week   None             no  \n",
            "10  last contact month of year (categorical: 'jan'...   None             no  \n",
            "11   last contact duration, in seconds (numeric). ...   None             no  \n",
            "12  number of contacts performed during this campa...   None             no  \n",
            "13  number of days that passed by after the client...   None            yes  \n",
            "14  number of contacts performed before this campa...   None             no  \n",
            "15  outcome of the previous marketing campaign (ca...   None            yes  \n",
            "16          has the client subscribed a term deposit?   None             no  \n"
          ]
        }
      ],
      "source": [
        "# Получение датасета\n",
        "bank_marketing = fetch_ucirepo(id=222)\n",
        "\n",
        "# Сохранение данных в виде pandas массивов\n",
        "X = bank_marketing.data.features\n",
        "y = bank_marketing.data.targets\n",
        "\n",
        "# Метаданные и информация о переменных\n",
        "print(bank_marketing.metadata)\n",
        "print(bank_marketing.variables)"
      ]
    },
    {
      "cell_type": "markdown",
      "metadata": {
        "id": "uLmlk5uL4Qqz"
      },
      "source": [
        "## 2. Визуализировать данные и вычислить основные характеристики (среднее, разброс, корреляционную матрицу и т.д.). Интерпретировать."
      ]
    },
    {
      "cell_type": "code",
      "execution_count": 4,
      "metadata": {
        "colab": {
          "base_uri": "https://localhost:8080/"
        },
        "id": "axAotEN4PJvq",
        "outputId": "63a265a4-7ddc-4432-ae33-4abcb049aa91"
      },
      "outputs": [
        {
          "output_type": "stream",
          "name": "stdout",
          "text": [
            "(45211, 16)\n",
            "Index(['age', 'job', 'marital', 'education', 'default', 'balance', 'housing',\n",
            "       'loan', 'contact', 'day_of_week', 'month', 'duration', 'campaign',\n",
            "       'pdays', 'previous', 'poutcome'],\n",
            "      dtype='object')\n",
            "(45211, 1)\n",
            "Index(['y'], dtype='object')\n",
            "Баланс классов: 0.116985\n"
          ]
        }
      ],
      "source": [
        "# Краткая информация\n",
        "print(X.shape)\n",
        "print(X.columns)\n",
        "\n",
        "print(y.shape)\n",
        "print(y.columns)\n",
        "\n",
        "print(\"Баланс классов:\", ((y[:] == 'yes').sum()/y.shape[0]).to_string(index = False, dtype = False))"
      ]
    },
    {
      "cell_type": "code",
      "execution_count": 5,
      "metadata": {
        "colab": {
          "base_uri": "https://localhost:8080/",
          "height": 492
        },
        "id": "beLqGecgXBRC",
        "outputId": "1bcab0ed-55d6-4564-8b3d-04b722eec75a"
      },
      "outputs": [
        {
          "output_type": "display_data",
          "data": {
            "text/plain": [
              "<Figure size 640x480 with 1 Axes>"
            ],
            "image/png": "[encoded data removed]"
          },
          "metadata": {}
        }
      ],
      "source": [
        "# Распределение по возрасту (график)\n",
        "plt.hist(X['age'], bins = 30, edgecolor = 'black')\n",
        "plt.xlabel('Возраст')\n",
        "plt.ylabel('Общее количество')\n",
        "plt.title('Распределение по возрасту')\n",
        "plt.show()"
      ]
    },
    {
      "cell_type": "code",
      "execution_count": 6,
      "metadata": {
        "colab": {
          "base_uri": "https://localhost:8080/",
          "height": 557
        },
        "id": "v78VT4HaXgo3",
        "outputId": "c60cd005-1e3f-4d82-e5be-06534392bdb2"
      },
      "outputs": [
        {
          "output_type": "display_data",
          "data": {
            "text/plain": [
              "<Figure size 640x480 with 1 Axes>"
            ],
            "image/png": "[encoded data removed]"
          },
          "metadata": {}
        }
      ],
      "source": [
        "# Распределение по работе (график)\n",
        "job_counts = X['job'].value_counts()\n",
        "plt.bar(job_counts.index, job_counts.values, edgecolor = 'black')\n",
        "plt.xlabel('Работа')\n",
        "plt.ylabel('Общее количество')\n",
        "plt.title('Распределение по работе')\n",
        "plt.xticks(rotation = 45)\n",
        "plt.show()"
      ]
    },
    {
      "cell_type": "code",
      "execution_count": 7,
      "metadata": {
        "colab": {
          "base_uri": "https://localhost:8080/"
        },
        "id": "t_t7IkJGZDyk",
        "outputId": "008360c2-e82e-4fe6-ef25-624e07b9438f"
      },
      "outputs": [
        {
          "output_type": "stream",
          "name": "stdout",
          "text": [
            "Средние значения признаков:\n",
            "age              40.936210\n",
            "balance        1362.272058\n",
            "day_of_week      15.806419\n",
            "duration        258.163080\n",
            "campaign          2.763841\n",
            "pdays            40.197828\n",
            "previous          0.580323\n",
            "dtype: float64\n"
          ]
        }
      ],
      "source": [
        "# Вычисление средних значений\n",
        "average_values = X.mean(numeric_only = True)\n",
        "print(\"Средние значения признаков:\")\n",
        "print(average_values)"
      ]
    },
    {
      "cell_type": "code",
      "execution_count": 8,
      "metadata": {
        "colab": {
          "base_uri": "https://localhost:8080/"
        },
        "id": "0qU2tEknZmwz",
        "outputId": "3ad389c6-c935-4618-90b0-c07ade8334b7"
      },
      "outputs": [
        {
          "output_type": "stream",
          "name": "stdout",
          "text": [
            "Разброс данных (дисперсия) для числовых признаков:\n",
            "age            1.127581e+02\n",
            "balance        9.270599e+06\n",
            "day_of_week    6.926361e+01\n",
            "duration       6.632057e+04\n",
            "campaign       9.597733e+00\n",
            "pdays          1.002577e+04\n",
            "previous       5.305841e+00\n",
            "dtype: float64\n"
          ]
        }
      ],
      "source": [
        "# Вычисление разброса\n",
        "variance_values = X.var(numeric_only = True)\n",
        "print(\"Разброс данных (дисперсия) для числовых признаков:\")\n",
        "print(variance_values)"
      ]
    },
    {
      "cell_type": "code",
      "execution_count": 9,
      "metadata": {
        "colab": {
          "base_uri": "https://localhost:8080/",
          "height": 548
        },
        "id": "9zdQZlf042B_",
        "outputId": "0ae9cda5-cf63-4115-92b2-1b91cf8d5b00"
      },
      "outputs": [
        {
          "output_type": "display_data",
          "data": {
            "text/plain": [
              "<Figure size 640x480 with 2 Axes>"
            ],
            "image/png": "[encoded data removed]"
          },
          "metadata": {}
        }
      ],
      "source": [
        "# Корреляционная матрица\n",
        "corr_matrix = X.corr(numeric_only = True)\n",
        "sns.heatmap(corr_matrix, annot = True, cmap = 'coolwarm')\n",
        "plt.title('Тепловая карта корреляции')\n",
        "plt.show()"
      ]
    },
    {
      "cell_type": "markdown",
      "metadata": {
        "id": "xbNybjq25hrG"
      },
      "source": [
        "## 3. Обработать пропущенные значения (или убедиться, что их нет)"
      ]
    },
    {
      "cell_type": "code",
      "execution_count": 10,
      "metadata": {
        "colab": {
          "base_uri": "https://localhost:8080/",
          "height": 606
        },
        "id": "u5KfBLSjSZKI",
        "outputId": "2755d32f-5cb3-4e41-a7c3-88edd32ca4b4"
      },
      "outputs": [
        {
          "output_type": "execute_result",
          "data": {
            "text/plain": [
              "age                0\n",
              "job              288\n",
              "marital            0\n",
              "education       1857\n",
              "default            0\n",
              "balance            0\n",
              "housing            0\n",
              "loan               0\n",
              "contact        13020\n",
              "day_of_week        0\n",
              "month              0\n",
              "duration           0\n",
              "campaign           0\n",
              "pdays              0\n",
              "previous           0\n",
              "poutcome       36959\n",
              "dtype: int64"
            ],
            "text/html": [
              "<div>\n",
              "<style scoped>\n",
              "    .dataframe tbody tr th:only-of-type {\n",
              "        vertical-align: middle;\n",
              "    }\n",
              "\n",
              "    .dataframe tbody tr th {\n",
              "        vertical-align: top;\n",
              "    }\n",
              "\n",
              "    .dataframe thead th {\n",
              "        text-align: right;\n",
              "    }\n",
              "</style>\n",
              "<table border=\"1\" class=\"dataframe\">\n",
              "  <thead>\n",
              "    <tr style=\"text-align: right;\">\n",
              "      <th></th>\n",
              "      <th>0</th>\n",
              "    </tr>\n",
              "  </thead>\n",
              "  <tbody>\n",
              "    <tr>\n",
              "      <th>age</th>\n",
              "      <td>0</td>\n",
              "    </tr>\n",
              "    <tr>\n",
              "      <th>job</th>\n",
              "      <td>288</td>\n",
              "    </tr>\n",
              "    <tr>\n",
              "      <th>marital</th>\n",
              "      <td>0</td>\n",
              "    </tr>\n",
              "    <tr>\n",
              "      <th>education</th>\n",
              "      <td>1857</td>\n",
              "    </tr>\n",
              "    <tr>\n",
              "      <th>default</th>\n",
              "      <td>0</td>\n",
              "    </tr>\n",
              "    <tr>\n",
              "      <th>balance</th>\n",
              "      <td>0</td>\n",
              "    </tr>\n",
              "    <tr>\n",
              "      <th>housing</th>\n",
              "      <td>0</td>\n",
              "    </tr>\n",
              "    <tr>\n",
              "      <th>loan</th>\n",
              "      <td>0</td>\n",
              "    </tr>\n",
              "    <tr>\n",
              "      <th>contact</th>\n",
              "      <td>13020</td>\n",
              "    </tr>\n",
              "    <tr>\n",
              "      <th>day_of_week</th>\n",
              "      <td>0</td>\n",
              "    </tr>\n",
              "    <tr>\n",
              "      <th>month</th>\n",
              "      <td>0</td>\n",
              "    </tr>\n",
              "    <tr>\n",
              "      <th>duration</th>\n",
              "      <td>0</td>\n",
              "    </tr>\n",
              "    <tr>\n",
              "      <th>campaign</th>\n",
              "      <td>0</td>\n",
              "    </tr>\n",
              "    <tr>\n",
              "      <th>pdays</th>\n",
              "      <td>0</td>\n",
              "    </tr>\n",
              "    <tr>\n",
              "      <th>previous</th>\n",
              "      <td>0</td>\n",
              "    </tr>\n",
              "    <tr>\n",
              "      <th>poutcome</th>\n",
              "      <td>36959</td>\n",
              "    </tr>\n",
              "  </tbody>\n",
              "</table>\n",
              "</div><br><label><b>dtype:</b> int64</label>"
            ]
          },
          "metadata": {},
          "execution_count": 10
        }
      ],
      "source": [
        "X[:].isnull().sum()"
      ]
    },
    {
      "cell_type": "code",
      "execution_count": 11,
      "metadata": {
        "id": "zN10VJo7ZDBW"
      },
      "outputs": [],
      "source": [
        "# Вспомогательная функция\n",
        "def get_unique_elems(elems):\n",
        "  unique = []\n",
        "  for tmp in elems:\n",
        "    if tmp not in unique:\n",
        "      unique.append(tmp)\n",
        "  return unique"
      ]
    },
    {
      "cell_type": "code",
      "execution_count": 12,
      "metadata": {
        "colab": {
          "base_uri": "https://localhost:8080/"
        },
        "id": "qZw83jxrbdc2",
        "outputId": "5f966f70-2df1-43ee-9e3e-e0d0153d2ead"
      },
      "outputs": [
        {
          "output_type": "stream",
          "name": "stdout",
          "text": [
            "['management', 'technician', 'entrepreneur', 'blue-collar', nan, 'retired', 'admin.', 'services', 'self-employed', 'unemployed', 'housemaid', 'student']\n",
            "['management', 'technician', 'entrepreneur', 'blue-collar', 'empty', 'retired', 'admin.', 'services', 'self-employed', 'unemployed', 'housemaid', 'student']\n"
          ]
        }
      ],
      "source": [
        "# Выводим все уникальные значения работ\n",
        "print(get_unique_elems(X['job']))\n",
        "\n",
        "# Заменим все Null значения на empty\n",
        "# Возможно люди, отказывающиеся называть своё место работы\n",
        "# чаще отказывают, поэтому этот параметр нельзя опускать из обучения\n",
        "X.loc[X['job'].isnull(), 'job'] = 'empty'\n",
        "print(get_unique_elems(X['job']))"
      ]
    },
    {
      "cell_type": "code",
      "execution_count": 13,
      "metadata": {
        "colab": {
          "base_uri": "https://localhost:8080/"
        },
        "id": "F5a8CFIwiYRC",
        "outputId": "8ff7a627-def7-4620-ac27-83afb5f423a6"
      },
      "outputs": [
        {
          "output_type": "stream",
          "name": "stdout",
          "text": [
            "['tertiary', 'secondary', nan, 'primary']\n",
            "['tertiary', 'secondary', 'primary']\n"
          ]
        }
      ],
      "source": [
        "# Выводим все уникальные значения образования\n",
        "print(get_unique_elems(X['education']))\n",
        "\n",
        "# Так как минимальный возраст оказания услуг - 18, будем\n",
        "# считать, что пустые значения education как минимум 'primary'\n",
        "X.loc[X['education'].isnull(), 'education'] = 'primary'\n",
        "print(get_unique_elems(X['education']))"
      ]
    },
    {
      "cell_type": "code",
      "execution_count": 14,
      "metadata": {
        "colab": {
          "base_uri": "https://localhost:8080/"
        },
        "id": "0K1HXAGWld4t",
        "outputId": "9f2480dc-3280-452b-90fb-1d1cb7312f66"
      },
      "outputs": [
        {
          "output_type": "stream",
          "name": "stdout",
          "text": [
            "[nan, 'cellular', 'telephone']\n",
            "nan:  0.28798301298356593\n",
            "['empty', 'cellular', 'telephone']\n"
          ]
        }
      ],
      "source": [
        "# Выводим все уникальные значения типа связи\n",
        "print(get_unique_elems(X['contact']))\n",
        "print(\"nan: \", X['contact'].isnull().sum()/X.shape[0])\n",
        "\n",
        "# Хоть nan занимает почти треть значений, комфорт клиента при\n",
        "# разговоре может многое значить в конце сделки, поэтому\n",
        "# вместо отказа от рассмотрения данного признака будем\n",
        "# заполнять его признаком empty\n",
        "\n",
        "X.loc[X['contact'].isnull(), 'contact'] = 'empty'\n",
        "print(get_unique_elems(X['contact']))"
      ]
    },
    {
      "cell_type": "code",
      "execution_count": 15,
      "metadata": {
        "colab": {
          "base_uri": "https://localhost:8080/"
        },
        "id": "6nqCMeuhn1d2",
        "outputId": "9eeb90c9-13bf-4000-aa97-584dca160674"
      },
      "outputs": [
        {
          "output_type": "stream",
          "name": "stdout",
          "text": [
            "[nan, 'failure', 'other', 'success']\n",
            "['other', 'failure', 'success']\n"
          ]
        }
      ],
      "source": [
        "# Выводим все уникальные значения типа связи\n",
        "print(get_unique_elems(X['poutcome']))\n",
        "\n",
        "# Заменим все nan на other\n",
        "X.loc[X['poutcome'].isnull(), 'poutcome'] = 'other'\n",
        "print(get_unique_elems(X['poutcome']))"
      ]
    },
    {
      "cell_type": "code",
      "execution_count": 16,
      "metadata": {
        "colab": {
          "base_uri": "https://localhost:8080/"
        },
        "id": "hQY5giA_nsEw",
        "outputId": "e0e63bad-91a3-4cdc-917c-243ebae7308a"
      },
      "outputs": [
        {
          "output_type": "execute_result",
          "data": {
            "text/plain": [
              "0"
            ]
          },
          "metadata": {},
          "execution_count": 16
        }
      ],
      "source": [
        "# Дополнительная проверка, что все значения заполнены\n",
        "X[:].isnull().sum().sum()"
      ]
    },
    {
      "cell_type": "code",
      "execution_count": 17,
      "metadata": {
        "id": "_Jlabous38UR"
      },
      "outputs": [],
      "source": [
        "# Удаляем излишние данные, которые не так важны для обучения (дату звонка)\n",
        "existing_columns_to_drop = [col for col in ['day_of_week', 'month'] if col in X.columns]\n",
        "\n",
        "if existing_columns_to_drop:\n",
        "    X.drop(columns=existing_columns_to_drop, inplace=True)"
      ]
    },
    {
      "cell_type": "markdown",
      "metadata": {
        "id": "jsLp5X1qKAEW"
      },
      "source": [
        "## 4. Обработать категориальные признаки"
      ]
    },
    {
      "cell_type": "code",
      "execution_count": 18,
      "metadata": {
        "colab": {
          "base_uri": "https://localhost:8080/"
        },
        "id": "dLt9pERVwA81",
        "outputId": "d99e9ff3-6fdd-4d52-bcc3-7d8c0a4c47ad"
      },
      "outputs": [
        {
          "output_type": "stream",
          "name": "stdout",
          "text": [
            "       age  default  balance  housing  loan  duration  campaign  pdays  \\\n",
            "0       58        0     2143        1     0       261         1     -1   \n",
            "1       44        0       29        1     0       151         1     -1   \n",
            "2       33        0        2        1     1        76         1     -1   \n",
            "3       47        0     1506        1     0        92         1     -1   \n",
            "4       33        0        1        0     0       198         1     -1   \n",
            "...    ...      ...      ...      ...   ...       ...       ...    ...   \n",
            "45206   51        0      825        0     0       977         3     -1   \n",
            "45207   71        0     1729        0     0       456         2     -1   \n",
            "45208   72        0     5715        0     0      1127         5    184   \n",
            "45209   57        0      668        0     0       508         4     -1   \n",
            "45210   37        0     2971        0     0       361         2    188   \n",
            "\n",
            "       previous  job_admin.  ...  marital_single  education_primary  \\\n",
            "0             0       False  ...           False              False   \n",
            "1             0       False  ...            True              False   \n",
            "2             0       False  ...           False              False   \n",
            "3             0       False  ...           False               True   \n",
            "4             0       False  ...            True               True   \n",
            "...         ...         ...  ...             ...                ...   \n",
            "45206         0       False  ...           False              False   \n",
            "45207         0       False  ...           False               True   \n",
            "45208         3       False  ...           False              False   \n",
            "45209         0       False  ...           False              False   \n",
            "45210        11       False  ...           False              False   \n",
            "\n",
            "       education_secondary  education_tertiary  contact_cellular  \\\n",
            "0                    False                True             False   \n",
            "1                     True               False             False   \n",
            "2                     True               False             False   \n",
            "3                    False               False             False   \n",
            "4                    False               False             False   \n",
            "...                    ...                 ...               ...   \n",
            "45206                False                True              True   \n",
            "45207                False               False              True   \n",
            "45208                 True               False              True   \n",
            "45209                 True               False             False   \n",
            "45210                 True               False              True   \n",
            "\n",
            "       contact_empty  contact_telephone  poutcome_failure  poutcome_other  \\\n",
            "0               True              False             False            True   \n",
            "1               True              False             False            True   \n",
            "2               True              False             False            True   \n",
            "3               True              False             False            True   \n",
            "4               True              False             False            True   \n",
            "...              ...                ...               ...             ...   \n",
            "45206          False              False             False            True   \n",
            "45207          False              False             False            True   \n",
            "45208          False              False             False           False   \n",
            "45209          False               True             False            True   \n",
            "45210          False              False             False            True   \n",
            "\n",
            "       poutcome_success  \n",
            "0                 False  \n",
            "1                 False  \n",
            "2                 False  \n",
            "3                 False  \n",
            "4                 False  \n",
            "...                 ...  \n",
            "45206             False  \n",
            "45207             False  \n",
            "45208              True  \n",
            "45209             False  \n",
            "45210             False  \n",
            "\n",
            "[45211 rows x 33 columns]\n",
            "Index(['age', 'default', 'balance', 'housing', 'loan', 'duration', 'campaign',\n",
            "       'pdays', 'previous', 'job_admin.', 'job_blue-collar', 'job_empty',\n",
            "       'job_entrepreneur', 'job_housemaid', 'job_management', 'job_retired',\n",
            "       'job_self-employed', 'job_services', 'job_student', 'job_technician',\n",
            "       'job_unemployed', 'marital_divorced', 'marital_married',\n",
            "       'marital_single', 'education_primary', 'education_secondary',\n",
            "       'education_tertiary', 'contact_cellular', 'contact_empty',\n",
            "       'contact_telephone', 'poutcome_failure', 'poutcome_other',\n",
            "       'poutcome_success'],\n",
            "      dtype='object')\n"
          ]
        }
      ],
      "source": [
        "# Создаём объект LabelEncoder\n",
        "label_encoder = LabelEncoder()\n",
        "\n",
        "# Замена бинарных признаков на 0/1\n",
        "binary_features = ['default', 'housing', 'loan']\n",
        "for feature in binary_features:\n",
        "  X[feature] = X[feature].map({'yes': 1, 'no': 0})\n",
        "\n",
        "# Преобразуем категориальные признаки в бинарные со значениями 0/1\n",
        "columns_to_encode = ['job', 'marital', 'education', 'contact', 'poutcome']\n",
        "X = pd.DataFrame(X)\n",
        "X = pd.get_dummies(X)\n",
        "\n",
        "print(X)\n",
        "print(X.columns)"
      ]
    },
    {
      "cell_type": "code",
      "execution_count": 19,
      "metadata": {
        "colab": {
          "base_uri": "https://localhost:8080/"
        },
        "id": "jxEiA9rp30Vd",
        "outputId": "24a984a7-bdcd-4e1b-800c-f87237857a64"
      },
      "outputs": [
        {
          "output_type": "stream",
          "name": "stdout",
          "text": [
            "       y\n",
            "0      0\n",
            "1      0\n",
            "2      0\n",
            "3      0\n",
            "4      0\n",
            "...   ..\n",
            "45206  1\n",
            "45207  1\n",
            "45208  1\n",
            "45209  0\n",
            "45210  0\n",
            "\n",
            "[45211 rows x 1 columns]\n"
          ]
        }
      ],
      "source": [
        "# Приведение y к значениям 0/1\n",
        "y['y'] = y['y'].map({'yes': 1, 'no': 0})\n",
        "print(y)"
      ]
    },
    {
      "cell_type": "markdown",
      "metadata": {
        "id": "SI7aVXRBKHEq"
      },
      "source": [
        "## 5. Провести нормализацию"
      ]
    },
    {
      "cell_type": "code",
      "execution_count": 20,
      "metadata": {
        "id": "zKs4vB4YJBNt"
      },
      "outputs": [],
      "source": [
        "scaler = StandardScaler()\n",
        "X_scaled = scaler.fit_transform(X)"
      ]
    },
    {
      "cell_type": "markdown",
      "metadata": {
        "id": "4bK3-KHfKpds"
      },
      "source": [
        "## 6. Разбить данные на обучающую и тестовую выборки"
      ]
    },
    {
      "cell_type": "code",
      "execution_count": 21,
      "metadata": {
        "id": "PnDr3il7Kr4-"
      },
      "outputs": [],
      "source": [
        "# (80% - обучающая, 20% - тестовая)\n",
        "X_train, X_test, y_train, y_test = train_test_split(X_scaled, y, test_size=0.2, random_state=42)"
      ]
    },
    {
      "cell_type": "markdown",
      "metadata": {
        "id": "FKywAhm2KstN"
      },
      "source": [
        "## 7. Классификатор K-ближайших соседей"
      ]
    },
    {
      "cell_type": "code",
      "execution_count": 22,
      "metadata": {
        "colab": {
          "base_uri": "https://localhost:8080/"
        },
        "id": "Xo4lMufmx5KC",
        "outputId": "f3d54461-a210-4e61-d3a3-674ec7707f47"
      },
      "outputs": [
        {
          "output_type": "stream",
          "name": "stdout",
          "text": [
            "Среднеквадратичная ошибка на обучающей выборке: 0.09484\n",
            "Среднеквадратичная ошибка на тестовой выборке: 0.11423\n",
            "Матрица рассогласования:\n",
            " [[7875   77]\n",
            " [ 956  135]]\n"
          ]
        }
      ],
      "source": [
        "n_neighbors = 3\n",
        "knn_regressor = KNeighborsRegressor(n_neighbors=n_neighbors)\n",
        "knn_regressor.fit(X_train, y_train)\n",
        "\n",
        "# Предсказание на обучающей выборке\n",
        "y_train_pred = knn_regressor.predict(X_train).astype(int)\n",
        "# Предсказание на тестовой выборке\n",
        "y_test_pred = knn_regressor.predict(X_test).astype(int)\n",
        "\n",
        "print(f\"Среднеквадратичная ошибка на обучающей выборке: {mean_squared_error(y_train, y_train_pred):.5f}\")\n",
        "print(f\"Среднеквадратичная ошибка на тестовой выборке: {mean_squared_error(y_test, y_test_pred):.5f}\")\n",
        "print(\"Матрица рассогласования:\\n\", confusion_matrix(y_test, y_test_pred))"
      ]
    },
    {
      "cell_type": "markdown",
      "source": [
        "Вывод: риск переобучения, так как ошибка на обучающей выборке меньше, чем на тестовой. Это означает, что модель излишне адаптировалась к обучающим данным и возможно не будет хорошо работать на новых."
      ],
      "metadata": {
        "id": "l_URPvv9s_UX"
      }
    },
    {
      "cell_type": "markdown",
      "metadata": {
        "id": "pJOJrSh5RLS2"
      },
      "source": [
        "## 8. Подобрать оптимальное значение числа соседей"
      ]
    },
    {
      "cell_type": "code",
      "execution_count": 23,
      "metadata": {
        "id": "3EMUnpjfK9Fa",
        "colab": {
          "base_uri": "https://localhost:8080/"
        },
        "outputId": "57beff79-7b18-4e2e-8399-2b9d11913417"
      },
      "outputs": [
        {
          "output_type": "stream",
          "name": "stdout",
          "text": [
            "Наилучшее число соседей: 21\n"
          ]
        }
      ],
      "source": [
        "# Словарь n_neighbors для значений от 3 до 29\n",
        "param_grid = {'n_neighbors': range(3, 30)}\n",
        "grid_search = GridSearchCV(knn_regressor, param_grid)\n",
        "grid_search.fit(X_train, y_train)\n",
        "best_n_neighbors = grid_search.best_params_['n_neighbors']\n",
        "\n",
        "print(f\"Наилучшее число соседей: {best_n_neighbors}\")\n",
        "\n",
        "knn_best = KNeighborsRegressor(n_neighbors=best_n_neighbors)\n",
        "knn_best.fit(X_train, y_train)\n",
        "\n",
        "y_train_pred = knn_best.predict(X_train)\n",
        "y_test_pred = knn_best.predict(X_test)"
      ]
    },
    {
      "cell_type": "markdown",
      "source": [
        "## 9. Вычислить ошибки на обучающей и тестовой выборках"
      ],
      "metadata": {
        "id": "348c-PhbtU8b"
      }
    },
    {
      "cell_type": "code",
      "source": [
        "print(f\"Среднеквадратичная ошибка на обучающей выборке: {mean_squared_error(y_train, y_train_pred):.5f}\")\n",
        "print(f\"Среднеквадратичная ошибка на тестовой выборке: {mean_squared_error(y_test, y_test_pred):.5f}\")\n",
        "y_test_pred = y_test_pred.astype(int)\n",
        "print(\"Матрица рассогласования для тестовой выборки:\\n\", confusion_matrix(y_test, y_test_pred))"
      ],
      "metadata": {
        "colab": {
          "base_uri": "https://localhost:8080/"
        },
        "id": "qb7PSWldtivf",
        "outputId": "c5219b64-bc44-44b0-8646-c2fa5b087c3d"
      },
      "execution_count": 24,
      "outputs": [
        {
          "output_type": "stream",
          "name": "stdout",
          "text": [
            "Среднеквадратичная ошибка на обучающей выборке: 0.07054\n",
            "Среднеквадратичная ошибка на тестовой выборке: 0.07962\n",
            "Матрица рассогласования для тестовой выборки:\n",
            " [[7952    0]\n",
            " [1091    0]]\n"
          ]
        }
      ]
    },
    {
      "cell_type": "markdown",
      "metadata": {
        "id": "n1Kn4JqA_kvm"
      },
      "source": [
        "Вывод: модель не определила ни один пример из тестовой выборки как принадлежащий ко второму классу. Это говорит о том что KNN достаточно примитивный классификатор, который не справляется с несбалансированностью классов."
      ]
    },
    {
      "cell_type": "markdown",
      "source": [
        "## 10. Запустить другие классификаторы"
      ],
      "metadata": {
        "id": "FkaZP6ERxazY"
      }
    },
    {
      "cell_type": "markdown",
      "metadata": {
        "id": "Vo4gyLYpCCiw"
      },
      "source": [
        "### Логистическая регрессия"
      ]
    },
    {
      "cell_type": "code",
      "execution_count": 25,
      "metadata": {
        "id": "Gs4SCcGv9xZ7",
        "colab": {
          "base_uri": "https://localhost:8080/"
        },
        "outputId": "8c8b834d-7fcb-409b-ca11-4ee15c509b3e"
      },
      "outputs": [
        {
          "output_type": "stream",
          "name": "stdout",
          "text": [
            "Среднеквадратичная ошибка на обучающей выборке: 0.09907\n",
            "Среднеквадратичная ошибка на тестовой выборке: 0.10085\n",
            "Матрица рассогласования:\n",
            " [[7769  183]\n",
            " [ 729  362]]\n"
          ]
        }
      ],
      "source": [
        "from sklearn.linear_model import LogisticRegression\n",
        "clf = LogisticRegression(random_state=42, max_iter=1000)\n",
        "clf.fit(X_train, y_train.values.ravel())\n",
        "\n",
        "y_train_pred = clf.predict(X_train)\n",
        "y_test_pred = clf.predict(X_test)\n",
        "mse_train_clf = mean_squared_error(y_train, y_train_pred)\n",
        "mse_test_clf = mean_squared_error(y_test, y_test_pred)\n",
        "\n",
        "print(f\"Среднеквадратичная ошибка на обучающей выборке: {mse_train_clf:.5f}\")\n",
        "print(f\"Среднеквадратичная ошибка на тестовой выборке: {mse_test_clf:.5f}\")\n",
        "print(\"Матрица рассогласования:\\n\", confusion_matrix(y_test, y_test_pred))"
      ]
    },
    {
      "cell_type": "markdown",
      "metadata": {
        "id": "W4lb2RlPLzOC"
      },
      "source": [
        "###RandomForest"
      ]
    },
    {
      "cell_type": "code",
      "execution_count": 26,
      "metadata": {
        "id": "9DwcJwroGe4q",
        "colab": {
          "base_uri": "https://localhost:8080/"
        },
        "outputId": "171aa6fc-65d5-465c-bddb-f15bf8bb0cef"
      },
      "outputs": [
        {
          "output_type": "stream",
          "name": "stdout",
          "text": [
            "Среднеквадратичная ошибка на обучающей выборке: 0.00003\n",
            "Среднеквадратичная ошибка на тестовой выборке: 0.10395\n",
            "Матрица рассогласования:\n",
            " [[7707  245]\n",
            " [ 695  396]]\n"
          ]
        }
      ],
      "source": [
        "from sklearn.ensemble import RandomForestClassifier\n",
        "\n",
        "rfc = RandomForestClassifier()\n",
        "rfc.fit(X_train, y_train.values.ravel())\n",
        "\n",
        "y_train_pred = rfc.predict(X_train)\n",
        "y_test_pred = rfc.predict(X_test)\n",
        "mse_train_rfc = mean_squared_error(y_train, y_train_pred)\n",
        "mse_test_rfc = mean_squared_error(y_test, y_test_pred)\n",
        "\n",
        "print(f\"Среднеквадратичная ошибка на обучающей выборке: {mse_train_rfc:.5f}\")\n",
        "print(f\"Среднеквадратичная ошибка на тестовой выборке: {mse_test_rfc:.5f}\")\n",
        "print(\"Матрица рассогласования:\\n\", confusion_matrix(y_test, y_test_pred))"
      ]
    },
    {
      "cell_type": "markdown",
      "metadata": {
        "id": "4MbdMfN0NXHt"
      },
      "source": [
        "###Вывод\n",
        "Логистическая регрессия показала сбалансированный результат для решения моей задачи. При этом применение классификатора RandomForest со стандартными гиперпараметрами выдаёт минимальную ошибку на обучающей выборке, из-за которой можно сделать вывод о переобучении (хоть MSE на тестовой выборке выглядит оптимальным, стОит учесть также несбалансированность классов, из-за чего доверять такому результату всецело не получится). В связи с этим рассмотрим разные значения гиперпараметров с получаемыми при их применении ошибками для нахождения оптимальных значений."
      ]
    },
    {
      "cell_type": "markdown",
      "metadata": {
        "id": "2pQAOcdsLloF"
      },
      "source": [
        "###Разные значения гиперпараметров для RandomForest"
      ]
    },
    {
      "cell_type": "code",
      "execution_count": 27,
      "metadata": {
        "id": "vOkD1_m1LQlA",
        "colab": {
          "base_uri": "https://localhost:8080/"
        },
        "outputId": "c527574d-7b2e-4037-a9fd-9cea25a90b6b"
      },
      "outputs": [
        {
          "output_type": "stream",
          "name": "stdout",
          "text": [
            "Лучшие параметры:  {'max_depth': 15, 'n_estimators': 200}\n"
          ]
        }
      ],
      "source": [
        "param_grid = {\n",
        "    'n_estimators': [100, 200, 300],\n",
        "    'max_depth': [5, 10, 15]\n",
        "}\n",
        "\n",
        "rfc = RandomForestClassifier()\n",
        "grid_search = GridSearchCV(estimator = rfc, param_grid = param_grid)\n",
        "grid_search.fit(X_train, y_train.values.ravel())\n",
        "\n",
        "best_params = grid_search.best_params_\n",
        "print(\"Лучшие параметры: \", grid_search.best_params_)"
      ]
    },
    {
      "cell_type": "code",
      "source": [
        "rfc = RandomForestClassifier(n_estimators=best_params['n_estimators'],max_depth=best_params['max_depth'])\n",
        "rfc.fit(X_train, y_train.values.ravel())\n",
        "\n",
        "y_train_pred = rfc.predict(X_train)\n",
        "y_test_pred = rfc.predict(X_test)\n",
        "mse_train_rfc = mean_squared_error(y_train, y_train_pred)\n",
        "mse_test_rfc = mean_squared_error(y_test, y_test_pred)\n",
        "\n",
        "print(f\"Среднеквадратичная ошибка на обучающей выборке: {mse_train_rfc:.5f}\")\n",
        "print(f\"Среднеквадратичная ошибка на тестовой выборке: {mse_test_rfc:.5f}\")\n",
        "print(\"Матрица рассогласования:\\n\", confusion_matrix(y_test, y_test_pred))"
      ],
      "metadata": {
        "colab": {
          "base_uri": "https://localhost:8080/"
        },
        "id": "yWx-PwXy6OkX",
        "outputId": "7da8c8ec-d0fc-45a9-948f-ba6b772a2b45"
      },
      "execution_count": 28,
      "outputs": [
        {
          "output_type": "stream",
          "name": "stdout",
          "text": [
            "Среднеквадратичная ошибка на обучающей выборке: 0.04805\n",
            "Среднеквадратичная ошибка на тестовой выборке: 0.10240\n",
            "Матрица рассогласования:\n",
            " [[7761  191]\n",
            " [ 735  356]]\n"
          ]
        }
      ]
    },
    {
      "cell_type": "markdown",
      "source": [
        "## 11. Как-то побороться с несбалансированностью классов\n",
        "Буду бороться с несбалансированностью классов с применением параметра class_weight='balanced' в модели LogisticRegression.\n"
      ],
      "metadata": {
        "id": "OP5E04BNFet7"
      }
    },
    {
      "cell_type": "code",
      "source": [
        "clf = LogisticRegression(random_state=42, max_iter=1000, class_weight='balanced')\n",
        "clf.fit(X_train, y_train.values.ravel())\n",
        "\n",
        "y_train_pred = clf.predict(X_train)\n",
        "y_test_pred = clf.predict(X_test)\n",
        "mse_train_clf = mean_squared_error(y_train, y_train_pred)\n",
        "mse_test_clf = mean_squared_error(y_test, y_test_pred)\n",
        "\n",
        "print(f\"Среднеквадратичная ошибка на обучающей выборке: {mse_train_clf:.5f}\")\n",
        "print(f\"Среднеквадратичная ошибка на тестовой выборке: {mse_test_clf:.5f}\")\n",
        "print(\"Матрица рассогласования:\\n\", confusion_matrix(y_test, y_test_pred))"
      ],
      "metadata": {
        "colab": {
          "base_uri": "https://localhost:8080/"
        },
        "id": "XSzlBP59Fm9W",
        "outputId": "0a0d554a-a0e4-455c-b77a-df492b5d8746"
      },
      "execution_count": 29,
      "outputs": [
        {
          "output_type": "stream",
          "name": "stdout",
          "text": [
            "Среднеквадратичная ошибка на обучающей выборке: 0.16902\n",
            "Среднеквадратичная ошибка на тестовой выборке: 0.17373\n",
            "Матрица рассогласования:\n",
            " [[6606 1346]\n",
            " [ 225  866]]\n"
          ]
        }
      ]
    },
    {
      "cell_type": "markdown",
      "source": [
        "Как можно заметить, количество правильно определённых объектов класса 2 выросло, но при этом количество ложных срабатываний для объектов класса 1 также было увеличено, из-за чего ошибки на выборках были увеличены в обоих случаях (обучающая и тестовая выборки)."
      ],
      "metadata": {
        "id": "H7y4M0drGA4t"
      }
    },
    {
      "cell_type": "markdown",
      "source": [
        "## 12. Исключение коррелированных переменных\n",
        "Для возможного улучшения устойчивости и производительности модели"
      ],
      "metadata": {
        "id": "ptixHKNeInZl"
      }
    },
    {
      "cell_type": "code",
      "source": [
        "# Корреляционная матрица\n",
        "corr_matrix = X.corr(numeric_only = True)\n",
        "corr_matrix"
      ],
      "metadata": {
        "colab": {
          "base_uri": "https://localhost:8080/",
          "height": 1000
        },
        "id": "stvZHbU5HgLF",
        "outputId": "81bb271a-0f69-4aa5-bfbd-b4abd0794a03"
      },
      "execution_count": 30,
      "outputs": [
        {
          "output_type": "execute_result",
          "data": {
            "text/plain": [
              "                          age   default   balance   housing      loan  \\\n",
              "age                  1.000000 -0.017879  0.097783 -0.185513 -0.015655   \n",
              "default             -0.017879  1.000000 -0.066745 -0.006025  0.077234   \n",
              "balance              0.097783 -0.066745  1.000000 -0.068768 -0.084350   \n",
              "housing             -0.185513 -0.006025 -0.068768  1.000000  0.041323   \n",
              "loan                -0.015655  0.077234 -0.084350  0.041323  1.000000   \n",
              "duration            -0.004648 -0.010021  0.021560  0.005075 -0.012412   \n",
              "campaign             0.004760  0.016822 -0.014578 -0.023599  0.009980   \n",
              "pdays               -0.023758 -0.029979  0.003435  0.124178 -0.022754   \n",
              "previous             0.001288 -0.018329  0.016674  0.037076 -0.011043   \n",
              "job_admin.          -0.055717 -0.010037 -0.026726  0.043046  0.030781   \n",
              "job_blue-collar     -0.044002  0.010341 -0.048757  0.177475  0.018291   \n",
              "job_empty            0.050200 -0.006669  0.010784 -0.075023 -0.031943   \n",
              "job_entrepreneur     0.021792  0.026281  0.009642  0.010600  0.039808   \n",
              "job_housemaid        0.086650 -0.000359  0.001661 -0.079380 -0.017234   \n",
              "job_management      -0.023571 -0.002655  0.067797 -0.063382 -0.038904   \n",
              "job_retired          0.447378 -0.011290  0.046900 -0.156633 -0.014861   \n",
              "job_self-employed   -0.008093  0.004107  0.017850 -0.027319 -0.007882   \n",
              "job_services        -0.065780  0.000068 -0.038151  0.070435  0.035575   \n",
              "job_student         -0.197302 -0.016222  0.001233 -0.085066 -0.058503   \n",
              "job_technician      -0.068632 -0.003089 -0.016183 -0.012823  0.014798   \n",
              "job_unemployed       0.000412  0.006470  0.009023 -0.048229 -0.035961   \n",
              "marital_divorced     0.164674  0.017777 -0.021732  0.001778  0.016377   \n",
              "marital_married      0.286257 -0.014460  0.025708  0.017681  0.036906   \n",
              "marital_single      -0.427817  0.003115 -0.012537 -0.020475 -0.051716   \n",
              "education_primary    0.213442  0.000853 -0.008423 -0.014250 -0.036431   \n",
              "education_secondary -0.093979  0.013220 -0.069937  0.101659  0.070625   \n",
              "education_tertiary  -0.081629 -0.015239  0.084001 -0.099175 -0.045940   \n",
              "contact_cellular    -0.068375 -0.010061  0.015880 -0.156071  0.013604   \n",
              "contact_empty       -0.020132  0.019933 -0.037331  0.208409 -0.007211   \n",
              "contact_telephone    0.170349 -0.017208  0.037999 -0.080822 -0.013183   \n",
              "poutcome_failure    -0.004927 -0.026389  0.011857  0.106795 -0.002186   \n",
              "poutcome_other      -0.013912  0.035542 -0.028721 -0.048101  0.029620   \n",
              "poutcome_success     0.035526 -0.023344  0.035240 -0.091360 -0.053713   \n",
              "\n",
              "                     duration  campaign     pdays  previous  job_admin.  ...  \\\n",
              "age                 -0.004648  0.004760 -0.023758  0.001288   -0.055717  ...   \n",
              "default             -0.010021  0.016822 -0.029979 -0.018329   -0.010037  ...   \n",
              "balance              0.021560 -0.014578  0.003435  0.016674   -0.026726  ...   \n",
              "housing              0.005075 -0.023599  0.124178  0.037076    0.043046  ...   \n",
              "loan                -0.012412  0.009980 -0.022754 -0.011043    0.030781  ...   \n",
              "duration             1.000000 -0.084570 -0.001565  0.001203   -0.015722  ...   \n",
              "campaign            -0.084570  1.000000 -0.088628 -0.032855   -0.021868  ...   \n",
              "pdays               -0.001565 -0.088628  1.000000  0.454820    0.027497  ...   \n",
              "previous             0.001203 -0.032855  0.454820  1.000000    0.014245  ...   \n",
              "job_admin.          -0.015722 -0.021868  0.027497  0.014245    1.000000  ...   \n",
              "job_blue-collar      0.009637  0.008986  0.020063 -0.017095   -0.188216  ...   \n",
              "job_empty           -0.006390  0.014091 -0.015366 -0.009068   -0.028774  ...   \n",
              "job_entrepreneur    -0.001327  0.002128 -0.014203 -0.008181   -0.066273  ...   \n",
              "job_housemaid       -0.008046  0.003097 -0.031350 -0.015204   -0.060349  ...   \n",
              "job_management      -0.008323  0.016686 -0.007871  0.019579   -0.184835  ...   \n",
              "job_retired          0.026032 -0.030913 -0.006315  0.005818   -0.082511  ...   \n",
              "job_self-employed    0.007383  0.005479 -0.010356 -0.002371   -0.068364  ...   \n",
              "job_services         0.001427 -0.004671  0.005710 -0.010926   -0.114309  ...   \n",
              "job_student         -0.006504 -0.021813  0.024486  0.023556   -0.052308  ...   \n",
              "job_technician      -0.009176  0.020739 -0.013478 -0.001123   -0.161505  ...   \n",
              "job_unemployed       0.020322 -0.018448 -0.010411 -0.008504   -0.061907  ...   \n",
              "marital_divorced     0.006100 -0.015484  0.002897 -0.004534    0.033624  ...   \n",
              "marital_married     -0.022683  0.031371 -0.027600 -0.012691   -0.059572  ...   \n",
              "marital_single       0.020328 -0.023120  0.027943  0.017006    0.040912  ...   \n",
              "education_primary   -0.003671  0.011614 -0.019273 -0.019345   -0.108555  ...   \n",
              "education_secondary  0.002084 -0.020893  0.022105 -0.005603    0.217639  ...   \n",
              "education_tertiary   0.000891  0.012866 -0.007568  0.022888   -0.144780  ...   \n",
              "contact_cellular     0.025543 -0.032271  0.225996  0.131717    0.000660  ...   \n",
              "contact_empty       -0.014379  0.004853 -0.247068 -0.154162    0.005961  ...   \n",
              "contact_telephone   -0.023201  0.053895  0.016006  0.028097   -0.012291  ...   \n",
              "poutcome_failure    -0.018925 -0.088131  0.701052  0.350627    0.018431  ...   \n",
              "poutcome_other      -0.004974  0.108153 -0.742470 -0.416226   -0.022636  ...   \n",
              "poutcome_success     0.042389 -0.057486  0.228539  0.201424    0.012056  ...   \n",
              "\n",
              "                     marital_single  education_primary  education_secondary  \\\n",
              "age                       -0.427817           0.213442            -0.093979   \n",
              "default                    0.003115           0.000853             0.013220   \n",
              "balance                   -0.012537          -0.008423            -0.069937   \n",
              "housing                   -0.020475          -0.014250             0.101659   \n",
              "loan                      -0.051716          -0.036431             0.070625   \n",
              "duration                   0.020328          -0.003671             0.002084   \n",
              "campaign                  -0.023120           0.011614            -0.020893   \n",
              "pdays                      0.027943          -0.019273             0.022105   \n",
              "previous                   0.017006          -0.019345            -0.005603   \n",
              "job_admin.                 0.040912          -0.108555             0.217639   \n",
              "job_blue-collar           -0.088315           0.319002             0.040548   \n",
              "job_empty                 -0.008317           0.086383            -0.042718   \n",
              "job_entrepreneur          -0.050297          -0.008620            -0.054865   \n",
              "job_housemaid             -0.062177           0.148758            -0.065396   \n",
              "job_management             0.032765          -0.177296            -0.406124   \n",
              "job_retired               -0.119892           0.122909            -0.036089   \n",
              "job_self-employed         -0.000185          -0.041283            -0.056242   \n",
              "job_services               0.003885          -0.059242             0.203018   \n",
              "job_student                0.211073           0.010362             0.008266   \n",
              "job_technician             0.061841          -0.159499             0.157443   \n",
              "job_unemployed             0.009506           0.011745             0.015688   \n",
              "marital_divorced          -0.226602          -0.014392             0.019795   \n",
              "marital_married           -0.772357           0.133418            -0.017724   \n",
              "marital_single             1.000000          -0.134798             0.005232   \n",
              "education_primary         -0.134798           1.000000            -0.501484   \n",
              "education_secondary        0.005232          -0.501484             1.000000   \n",
              "education_tertiary         0.110915          -0.315336            -0.662890   \n",
              "contact_cellular           0.052061          -0.127111            -0.031579   \n",
              "contact_empty             -0.033001           0.090452             0.045659   \n",
              "contact_telephone         -0.040468           0.080569            -0.022797   \n",
              "poutcome_failure           0.006244          -0.022366             0.010510   \n",
              "poutcome_other            -0.019013           0.032316             0.003374   \n",
              "poutcome_success           0.026105          -0.024039            -0.024728   \n",
              "\n",
              "                     education_tertiary  contact_cellular  contact_empty  \\\n",
              "age                           -0.081629         -0.068375      -0.020132   \n",
              "default                       -0.015239         -0.010061       0.019933   \n",
              "balance                        0.084001          0.015880      -0.037331   \n",
              "housing                       -0.099175         -0.156071       0.208409   \n",
              "loan                          -0.045940          0.013604      -0.007211   \n",
              "duration                       0.000891          0.025543      -0.014379   \n",
              "campaign                       0.012866         -0.032271       0.004853   \n",
              "pdays                         -0.007568          0.225996      -0.247068   \n",
              "previous                       0.022888          0.131717      -0.154162   \n",
              "job_admin.                    -0.144780          0.000660       0.005961   \n",
              "job_blue-collar               -0.320541         -0.129316       0.138141   \n",
              "job_empty                     -0.027900         -0.032331       0.017228   \n",
              "job_entrepreneur               0.067639         -0.002386       0.004867   \n",
              "job_housemaid                 -0.057004         -0.015649      -0.004815   \n",
              "job_management                 0.598900          0.101853      -0.090999   \n",
              "job_retired                   -0.066780         -0.020484      -0.036504   \n",
              "job_self-employed              0.097417          0.015440      -0.015358   \n",
              "job_services                  -0.171417         -0.030893       0.039184   \n",
              "job_student                   -0.018034          0.029049      -0.043908   \n",
              "job_technician                -0.034665          0.056982      -0.038252   \n",
              "job_unemployed                -0.027371          0.013007      -0.018464   \n",
              "marital_divorced              -0.009259         -0.006786       0.016904   \n",
              "marital_married               -0.096019         -0.043477       0.019342   \n",
              "marital_single                 0.110915          0.052061      -0.033001   \n",
              "education_primary             -0.315336         -0.127111       0.090452   \n",
              "education_secondary           -0.662890         -0.031579       0.045659   \n",
              "education_tertiary             1.000000          0.144641      -0.128359   \n",
              "contact_cellular               0.144641          1.000000      -0.862398   \n",
              "contact_empty                 -0.128359         -0.862398       1.000000   \n",
              "contact_telephone             -0.044719         -0.355403      -0.166683   \n",
              "poutcome_failure               0.007827          0.201732      -0.216885   \n",
              "poutcome_other                -0.031667         -0.233692       0.252518   \n",
              "poutcome_success               0.047927          0.104665      -0.114997   \n",
              "\n",
              "                     contact_telephone  poutcome_failure  poutcome_other  \\\n",
              "age                           0.170349         -0.004927       -0.013912   \n",
              "default                      -0.017208         -0.026389        0.035542   \n",
              "balance                       0.037999          0.011857       -0.028721   \n",
              "housing                      -0.080822          0.106795       -0.048101   \n",
              "loan                         -0.013183         -0.002186        0.029620   \n",
              "duration                     -0.023201         -0.018925       -0.004974   \n",
              "campaign                      0.053895         -0.088131        0.108153   \n",
              "pdays                         0.016006          0.701052       -0.742470   \n",
              "previous                      0.028097          0.350627       -0.416226   \n",
              "job_admin.                   -0.012291          0.018431       -0.022636   \n",
              "job_blue-collar              -0.003190          0.002254        0.025334   \n",
              "job_empty                     0.031162         -0.010034        0.007846   \n",
              "job_entrepreneur             -0.004338          0.001119        0.008849   \n",
              "job_housemaid                 0.039371         -0.016300        0.019356   \n",
              "job_management               -0.030362          0.003276       -0.013971   \n",
              "job_retired                   0.107299         -0.005031       -0.024101   \n",
              "job_self-employed            -0.001716         -0.002390        0.001361   \n",
              "job_services                 -0.012178         -0.001553        0.013199   \n",
              "job_student                   0.024493          0.007646       -0.031567   \n",
              "job_technician               -0.040357         -0.005049        0.006009   \n",
              "job_unemployed                0.008759         -0.012438        0.003334   \n",
              "marital_divorced             -0.017993         -0.001884        0.006053   \n",
              "marital_married               0.048970         -0.004516        0.013547   \n",
              "marital_single               -0.040468          0.006244       -0.019013   \n",
              "education_primary             0.080569         -0.022366        0.032316   \n",
              "education_secondary          -0.022797          0.010510        0.003374   \n",
              "education_tertiary           -0.044719          0.007827       -0.031667   \n",
              "contact_cellular             -0.355403          0.201732       -0.233692   \n",
              "contact_empty                -0.166683         -0.216885        0.252518   \n",
              "contact_telephone             1.000000          0.007537       -0.011080   \n",
              "poutcome_failure              0.007537          1.000000       -0.857728   \n",
              "poutcome_other               -0.011080         -0.857728        1.000000   \n",
              "poutcome_success              0.008470         -0.064838       -0.457409   \n",
              "\n",
              "                     poutcome_success  \n",
              "age                          0.035526  \n",
              "default                     -0.023344  \n",
              "balance                      0.035240  \n",
              "housing                     -0.091360  \n",
              "loan                        -0.053713  \n",
              "duration                     0.042389  \n",
              "campaign                    -0.057486  \n",
              "pdays                        0.228539  \n",
              "previous                     0.201424  \n",
              "job_admin.                   0.012056  \n",
              "job_blue-collar             -0.053074  \n",
              "job_empty                    0.002126  \n",
              "job_entrepreneur            -0.019111  \n",
              "job_housemaid               -0.009375  \n",
              "job_management               0.021453  \n",
              "job_retired                  0.055485  \n",
              "job_self-employed            0.001494  \n",
              "job_services                -0.022934  \n",
              "job_student                  0.048048  \n",
              "job_technician              -0.002929  \n",
              "job_unemployed               0.015044  \n",
              "marital_divorced            -0.008490  \n",
              "marital_married             -0.018484  \n",
              "marital_single               0.026105  \n",
              "education_primary           -0.024039  \n",
              "education_secondary         -0.024728  \n",
              "education_tertiary           0.047927  \n",
              "contact_cellular             0.104665  \n",
              "contact_empty               -0.114997  \n",
              "contact_telephone            0.008470  \n",
              "poutcome_failure            -0.064838  \n",
              "poutcome_other              -0.457409  \n",
              "poutcome_success             1.000000  \n",
              "\n",
              "[33 rows x 33 columns]"
            ],
            "text/html": [
              "\n",
              "  <div id=\"df-2a587da1-4cf0-4d58-8961-8692368d792a\" class=\"colab-df-container\">\n",
              "    <div>\n",
              "<style scoped>\n",
              "    .dataframe tbody tr th:only-of-type {\n",
              "        vertical-align: middle;\n",
              "    }\n",
              "\n",
              "    .dataframe tbody tr th {\n",
              "        vertical-align: top;\n",
              "    }\n",
              "\n",
              "    .dataframe thead th {\n",
              "        text-align: right;\n",
              "    }\n",
              "</style>\n",
              "<table border=\"1\" class=\"dataframe\">\n",
              "  <thead>\n",
              "    <tr style=\"text-align: right;\">\n",
              "      <th></th>\n",
              "      <th>age</th>\n",
              "      <th>default</th>\n",
              "      <th>balance</th>\n",
              "      <th>housing</th>\n",
              "      <th>loan</th>\n",
              "      <th>duration</th>\n",
              "      <th>campaign</th>\n",
              "      <th>pdays</th>\n",
              "      <th>previous</th>\n",
              "      <th>job_admin.</th>\n",
              "      <th>...</th>\n",
              "      <th>marital_single</th>\n",
              "      <th>education_primary</th>\n",
              "      <th>education_secondary</th>\n",
              "      <th>education_tertiary</th>\n",
              "      <th>contact_cellular</th>\n",
              "      <th>contact_empty</th>\n",
              "      <th>contact_telephone</th>\n",
              "      <th>poutcome_failure</th>\n",
              "      <th>poutcome_other</th>\n",
              "      <th>poutcome_success</th>\n",
              "    </tr>\n",
              "  </thead>\n",
              "  <tbody>\n",
              "    <tr>\n",
              "      <th>age</th>\n",
              "      <td>1.000000</td>\n",
              "      <td>-0.017879</td>\n",
              "      <td>0.097783</td>\n",
              "      <td>-0.185513</td>\n",
              "      <td>-0.015655</td>\n",
              "      <td>-0.004648</td>\n",
              "      <td>0.004760</td>\n",
              "      <td>-0.023758</td>\n",
              "      <td>0.001288</td>\n",
              "      <td>-0.055717</td>\n",
              "      <td>...</td>\n",
              "      <td>-0.427817</td>\n",
              "      <td>0.213442</td>\n",
              "      <td>-0.093979</td>\n",
              "      <td>-0.081629</td>\n",
              "      <td>-0.068375</td>\n",
              "      <td>-0.020132</td>\n",
              "      <td>0.170349</td>\n",
              "      <td>-0.004927</td>\n",
              "      <td>-0.013912</td>\n",
              "      <td>0.035526</td>\n",
              "    </tr>\n",
              "    <tr>\n",
              "      <th>default</th>\n",
              "      <td>-0.017879</td>\n",
              "      <td>1.000000</td>\n",
              "      <td>-0.066745</td>\n",
              "      <td>-0.006025</td>\n",
              "      <td>0.077234</td>\n",
              "      <td>-0.010021</td>\n",
              "      <td>0.016822</td>\n",
              "      <td>-0.029979</td>\n",
              "      <td>-0.018329</td>\n",
              "      <td>-0.010037</td>\n",
              "      <td>...</td>\n",
              "      <td>0.003115</td>\n",
              "      <td>0.000853</td>\n",
              "      <td>0.013220</td>\n",
              "      <td>-0.015239</td>\n",
              "      <td>-0.010061</td>\n",
              "      <td>0.019933</td>\n",
              "      <td>-0.017208</td>\n",
              "      <td>-0.026389</td>\n",
              "      <td>0.035542</td>\n",
              "      <td>-0.023344</td>\n",
              "    </tr>\n",
              "    <tr>\n",
              "      <th>balance</th>\n",
              "      <td>0.097783</td>\n",
              "      <td>-0.066745</td>\n",
              "      <td>1.000000</td>\n",
              "      <td>-0.068768</td>\n",
              "      <td>-0.084350</td>\n",
              "      <td>0.021560</td>\n",
              "      <td>-0.014578</td>\n",
              "      <td>0.003435</td>\n",
              "      <td>0.016674</td>\n",
              "      <td>-0.026726</td>\n",
              "      <td>...</td>\n",
              "      <td>-0.012537</td>\n",
              "      <td>-0.008423</td>\n",
              "      <td>-0.069937</td>\n",
              "      <td>0.084001</td>\n",
              "      <td>0.015880</td>\n",
              "      <td>-0.037331</td>\n",
              "      <td>0.037999</td>\n",
              "      <td>0.011857</td>\n",
              "      <td>-0.028721</td>\n",
              "      <td>0.035240</td>\n",
              "    </tr>\n",
              "    <tr>\n",
              "      <th>housing</th>\n",
              "      <td>-0.185513</td>\n",
              "      <td>-0.006025</td>\n",
              "      <td>-0.068768</td>\n",
              "      <td>1.000000</td>\n",
              "      <td>0.041323</td>\n",
              "      <td>0.005075</td>\n",
              "      <td>-0.023599</td>\n",
              "      <td>0.124178</td>\n",
              "      <td>0.037076</td>\n",
              "      <td>0.043046</td>\n",
              "      <td>...</td>\n",
              "      <td>-0.020475</td>\n",
              "      <td>-0.014250</td>\n",
              "      <td>0.101659</td>\n",
              "      <td>-0.099175</td>\n",
              "      <td>-0.156071</td>\n",
              "      <td>0.208409</td>\n",
              "      <td>-0.080822</td>\n",
              "      <td>0.106795</td>\n",
              "      <td>-0.048101</td>\n",
              "      <td>-0.091360</td>\n",
              "    </tr>\n",
              "    <tr>\n",
              "      <th>loan</th>\n",
              "      <td>-0.015655</td>\n",
              "      <td>0.077234</td>\n",
              "      <td>-0.084350</td>\n",
              "      <td>0.041323</td>\n",
              "      <td>1.000000</td>\n",
              "      <td>-0.012412</td>\n",
              "      <td>0.009980</td>\n",
              "      <td>-0.022754</td>\n",
              "      <td>-0.011043</td>\n",
              "      <td>0.030781</td>\n",
              "      <td>...</td>\n",
              "      <td>-0.051716</td>\n",
              "      <td>-0.036431</td>\n",
              "      <td>0.070625</td>\n",
              "      <td>-0.045940</td>\n",
              "      <td>0.013604</td>\n",
              "      <td>-0.007211</td>\n",
              "      <td>-0.013183</td>\n",
              "      <td>-0.002186</td>\n",
              "      <td>0.029620</td>\n",
              "      <td>-0.053713</td>\n",
              "    </tr>\n",
              "    <tr>\n",
              "      <th>duration</th>\n",
              "      <td>-0.004648</td>\n",
              "      <td>-0.010021</td>\n",
              "      <td>0.021560</td>\n",
              "      <td>0.005075</td>\n",
              "      <td>-0.012412</td>\n",
              "      <td>1.000000</td>\n",
              "      <td>-0.084570</td>\n",
              "      <td>-0.001565</td>\n",
              "      <td>0.001203</td>\n",
              "      <td>-0.015722</td>\n",
              "      <td>...</td>\n",
              "      <td>0.020328</td>\n",
              "      <td>-0.003671</td>\n",
              "      <td>0.002084</td>\n",
              "      <td>0.000891</td>\n",
              "      <td>0.025543</td>\n",
              "      <td>-0.014379</td>\n",
              "      <td>-0.023201</td>\n",
              "      <td>-0.018925</td>\n",
              "      <td>-0.004974</td>\n",
              "      <td>0.042389</td>\n",
              "    </tr>\n",
              "    <tr>\n",
              "      <th>campaign</th>\n",
              "      <td>0.004760</td>\n",
              "      <td>0.016822</td>\n",
              "      <td>-0.014578</td>\n",
              "      <td>-0.023599</td>\n",
              "      <td>0.009980</td>\n",
              "      <td>-0.084570</td>\n",
              "      <td>1.000000</td>\n",
              "      <td>-0.088628</td>\n",
              "      <td>-0.032855</td>\n",
              "      <td>-0.021868</td>\n",
              "      <td>...</td>\n",
              "      <td>-0.023120</td>\n",
              "      <td>0.011614</td>\n",
              "      <td>-0.020893</td>\n",
              "      <td>0.012866</td>\n",
              "      <td>-0.032271</td>\n",
              "      <td>0.004853</td>\n",
              "      <td>0.053895</td>\n",
              "      <td>-0.088131</td>\n",
              "      <td>0.108153</td>\n",
              "      <td>-0.057486</td>\n",
              "    </tr>\n",
              "    <tr>\n",
              "      <th>pdays</th>\n",
              "      <td>-0.023758</td>\n",
              "      <td>-0.029979</td>\n",
              "      <td>0.003435</td>\n",
              "      <td>0.124178</td>\n",
              "      <td>-0.022754</td>\n",
              "      <td>-0.001565</td>\n",
              "      <td>-0.088628</td>\n",
              "      <td>1.000000</td>\n",
              "      <td>0.454820</td>\n",
              "      <td>0.027497</td>\n",
              "      <td>...</td>\n",
              "      <td>0.027943</td>\n",
              "      <td>-0.019273</td>\n",
              "      <td>0.022105</td>\n",
              "      <td>-0.007568</td>\n",
              "      <td>0.225996</td>\n",
              "      <td>-0.247068</td>\n",
              "      <td>0.016006</td>\n",
              "      <td>0.701052</td>\n",
              "      <td>-0.742470</td>\n",
              "      <td>0.228539</td>\n",
              "    </tr>\n",
              "    <tr>\n",
              "      <th>previous</th>\n",
              "      <td>0.001288</td>\n",
              "      <td>-0.018329</td>\n",
              "      <td>0.016674</td>\n",
              "      <td>0.037076</td>\n",
              "      <td>-0.011043</td>\n",
              "      <td>0.001203</td>\n",
              "      <td>-0.032855</td>\n",
              "      <td>0.454820</td>\n",
              "      <td>1.000000</td>\n",
              "      <td>0.014245</td>\n",
              "      <td>...</td>\n",
              "      <td>0.017006</td>\n",
              "      <td>-0.019345</td>\n",
              "      <td>-0.005603</td>\n",
              "      <td>0.022888</td>\n",
              "      <td>0.131717</td>\n",
              "      <td>-0.154162</td>\n",
              "      <td>0.028097</td>\n",
              "      <td>0.350627</td>\n",
              "      <td>-0.416226</td>\n",
              "      <td>0.201424</td>\n",
              "    </tr>\n",
              "    <tr>\n",
              "      <th>job_admin.</th>\n",
              "      <td>-0.055717</td>\n",
              "      <td>-0.010037</td>\n",
              "      <td>-0.026726</td>\n",
              "      <td>0.043046</td>\n",
              "      <td>0.030781</td>\n",
              "      <td>-0.015722</td>\n",
              "      <td>-0.021868</td>\n",
              "      <td>0.027497</td>\n",
              "      <td>0.014245</td>\n",
              "      <td>1.000000</td>\n",
              "      <td>...</td>\n",
              "      <td>0.040912</td>\n",
              "      <td>-0.108555</td>\n",
              "      <td>0.217639</td>\n",
              "      <td>-0.144780</td>\n",
              "      <td>0.000660</td>\n",
              "      <td>0.005961</td>\n",
              "      <td>-0.012291</td>\n",
              "      <td>0.018431</td>\n",
              "      <td>-0.022636</td>\n",
              "      <td>0.012056</td>\n",
              "    </tr>\n",
              "    <tr>\n",
              "      <th>job_blue-collar</th>\n",
              "      <td>-0.044002</td>\n",
              "      <td>0.010341</td>\n",
              "      <td>-0.048757</td>\n",
              "      <td>0.177475</td>\n",
              "      <td>0.018291</td>\n",
              "      <td>0.009637</td>\n",
              "      <td>0.008986</td>\n",
              "      <td>0.020063</td>\n",
              "      <td>-0.017095</td>\n",
              "      <td>-0.188216</td>\n",
              "      <td>...</td>\n",
              "      <td>-0.088315</td>\n",
              "      <td>0.319002</td>\n",
              "      <td>0.040548</td>\n",
              "      <td>-0.320541</td>\n",
              "      <td>-0.129316</td>\n",
              "      <td>0.138141</td>\n",
              "      <td>-0.003190</td>\n",
              "      <td>0.002254</td>\n",
              "      <td>0.025334</td>\n",
              "      <td>-0.053074</td>\n",
              "    </tr>\n",
              "    <tr>\n",
              "      <th>job_empty</th>\n",
              "      <td>0.050200</td>\n",
              "      <td>-0.006669</td>\n",
              "      <td>0.010784</td>\n",
              "      <td>-0.075023</td>\n",
              "      <td>-0.031943</td>\n",
              "      <td>-0.006390</td>\n",
              "      <td>0.014091</td>\n",
              "      <td>-0.015366</td>\n",
              "      <td>-0.009068</td>\n",
              "      <td>-0.028774</td>\n",
              "      <td>...</td>\n",
              "      <td>-0.008317</td>\n",
              "      <td>0.086383</td>\n",
              "      <td>-0.042718</td>\n",
              "      <td>-0.027900</td>\n",
              "      <td>-0.032331</td>\n",
              "      <td>0.017228</td>\n",
              "      <td>0.031162</td>\n",
              "      <td>-0.010034</td>\n",
              "      <td>0.007846</td>\n",
              "      <td>0.002126</td>\n",
              "    </tr>\n",
              "    <tr>\n",
              "      <th>job_entrepreneur</th>\n",
              "      <td>0.021792</td>\n",
              "      <td>0.026281</td>\n",
              "      <td>0.009642</td>\n",
              "      <td>0.010600</td>\n",
              "      <td>0.039808</td>\n",
              "      <td>-0.001327</td>\n",
              "      <td>0.002128</td>\n",
              "      <td>-0.014203</td>\n",
              "      <td>-0.008181</td>\n",
              "      <td>-0.066273</td>\n",
              "      <td>...</td>\n",
              "      <td>-0.050297</td>\n",
              "      <td>-0.008620</td>\n",
              "      <td>-0.054865</td>\n",
              "      <td>0.067639</td>\n",
              "      <td>-0.002386</td>\n",
              "      <td>0.004867</td>\n",
              "      <td>-0.004338</td>\n",
              "      <td>0.001119</td>\n",
              "      <td>0.008849</td>\n",
              "      <td>-0.019111</td>\n",
              "    </tr>\n",
              "    <tr>\n",
              "      <th>job_housemaid</th>\n",
              "      <td>0.086650</td>\n",
              "      <td>-0.000359</td>\n",
              "      <td>0.001661</td>\n",
              "      <td>-0.079380</td>\n",
              "      <td>-0.017234</td>\n",
              "      <td>-0.008046</td>\n",
              "      <td>0.003097</td>\n",
              "      <td>-0.031350</td>\n",
              "      <td>-0.015204</td>\n",
              "      <td>-0.060349</td>\n",
              "      <td>...</td>\n",
              "      <td>-0.062177</td>\n",
              "      <td>0.148758</td>\n",
              "      <td>-0.065396</td>\n",
              "      <td>-0.057004</td>\n",
              "      <td>-0.015649</td>\n",
              "      <td>-0.004815</td>\n",
              "      <td>0.039371</td>\n",
              "      <td>-0.016300</td>\n",
              "      <td>0.019356</td>\n",
              "      <td>-0.009375</td>\n",
              "    </tr>\n",
              "    <tr>\n",
              "      <th>job_management</th>\n",
              "      <td>-0.023571</td>\n",
              "      <td>-0.002655</td>\n",
              "      <td>0.067797</td>\n",
              "      <td>-0.063382</td>\n",
              "      <td>-0.038904</td>\n",
              "      <td>-0.008323</td>\n",
              "      <td>0.016686</td>\n",
              "      <td>-0.007871</td>\n",
              "      <td>0.019579</td>\n",
              "      <td>-0.184835</td>\n",
              "      <td>...</td>\n",
              "      <td>0.032765</td>\n",
              "      <td>-0.177296</td>\n",
              "      <td>-0.406124</td>\n",
              "      <td>0.598900</td>\n",
              "      <td>0.101853</td>\n",
              "      <td>-0.090999</td>\n",
              "      <td>-0.030362</td>\n",
              "      <td>0.003276</td>\n",
              "      <td>-0.013971</td>\n",
              "      <td>0.021453</td>\n",
              "    </tr>\n",
              "    <tr>\n",
              "      <th>job_retired</th>\n",
              "      <td>0.447378</td>\n",
              "      <td>-0.011290</td>\n",
              "      <td>0.046900</td>\n",
              "      <td>-0.156633</td>\n",
              "      <td>-0.014861</td>\n",
              "      <td>0.026032</td>\n",
              "      <td>-0.030913</td>\n",
              "      <td>-0.006315</td>\n",
              "      <td>0.005818</td>\n",
              "      <td>-0.082511</td>\n",
              "      <td>...</td>\n",
              "      <td>-0.119892</td>\n",
              "      <td>0.122909</td>\n",
              "      <td>-0.036089</td>\n",
              "      <td>-0.066780</td>\n",
              "      <td>-0.020484</td>\n",
              "      <td>-0.036504</td>\n",
              "      <td>0.107299</td>\n",
              "      <td>-0.005031</td>\n",
              "      <td>-0.024101</td>\n",
              "      <td>0.055485</td>\n",
              "    </tr>\n",
              "    <tr>\n",
              "      <th>job_self-employed</th>\n",
              "      <td>-0.008093</td>\n",
              "      <td>0.004107</td>\n",
              "      <td>0.017850</td>\n",
              "      <td>-0.027319</td>\n",
              "      <td>-0.007882</td>\n",
              "      <td>0.007383</td>\n",
              "      <td>0.005479</td>\n",
              "      <td>-0.010356</td>\n",
              "      <td>-0.002371</td>\n",
              "      <td>-0.068364</td>\n",
              "      <td>...</td>\n",
              "      <td>-0.000185</td>\n",
              "      <td>-0.041283</td>\n",
              "      <td>-0.056242</td>\n",
              "      <td>0.097417</td>\n",
              "      <td>0.015440</td>\n",
              "      <td>-0.015358</td>\n",
              "      <td>-0.001716</td>\n",
              "      <td>-0.002390</td>\n",
              "      <td>0.001361</td>\n",
              "      <td>0.001494</td>\n",
              "    </tr>\n",
              "    <tr>\n",
              "      <th>job_services</th>\n",
              "      <td>-0.065780</td>\n",
              "      <td>0.000068</td>\n",
              "      <td>-0.038151</td>\n",
              "      <td>0.070435</td>\n",
              "      <td>0.035575</td>\n",
              "      <td>0.001427</td>\n",
              "      <td>-0.004671</td>\n",
              "      <td>0.005710</td>\n",
              "      <td>-0.010926</td>\n",
              "      <td>-0.114309</td>\n",
              "      <td>...</td>\n",
              "      <td>0.003885</td>\n",
              "      <td>-0.059242</td>\n",
              "      <td>0.203018</td>\n",
              "      <td>-0.171417</td>\n",
              "      <td>-0.030893</td>\n",
              "      <td>0.039184</td>\n",
              "      <td>-0.012178</td>\n",
              "      <td>-0.001553</td>\n",
              "      <td>0.013199</td>\n",
              "      <td>-0.022934</td>\n",
              "    </tr>\n",
              "    <tr>\n",
              "      <th>job_student</th>\n",
              "      <td>-0.197302</td>\n",
              "      <td>-0.016222</td>\n",
              "      <td>0.001233</td>\n",
              "      <td>-0.085066</td>\n",
              "      <td>-0.058503</td>\n",
              "      <td>-0.006504</td>\n",
              "      <td>-0.021813</td>\n",
              "      <td>0.024486</td>\n",
              "      <td>0.023556</td>\n",
              "      <td>-0.052308</td>\n",
              "      <td>...</td>\n",
              "      <td>0.211073</td>\n",
              "      <td>0.010362</td>\n",
              "      <td>0.008266</td>\n",
              "      <td>-0.018034</td>\n",
              "      <td>0.029049</td>\n",
              "      <td>-0.043908</td>\n",
              "      <td>0.024493</td>\n",
              "      <td>0.007646</td>\n",
              "      <td>-0.031567</td>\n",
              "      <td>0.048048</td>\n",
              "    </tr>\n",
              "    <tr>\n",
              "      <th>job_technician</th>\n",
              "      <td>-0.068632</td>\n",
              "      <td>-0.003089</td>\n",
              "      <td>-0.016183</td>\n",
              "      <td>-0.012823</td>\n",
              "      <td>0.014798</td>\n",
              "      <td>-0.009176</td>\n",
              "      <td>0.020739</td>\n",
              "      <td>-0.013478</td>\n",
              "      <td>-0.001123</td>\n",
              "      <td>-0.161505</td>\n",
              "      <td>...</td>\n",
              "      <td>0.061841</td>\n",
              "      <td>-0.159499</td>\n",
              "      <td>0.157443</td>\n",
              "      <td>-0.034665</td>\n",
              "      <td>0.056982</td>\n",
              "      <td>-0.038252</td>\n",
              "      <td>-0.040357</td>\n",
              "      <td>-0.005049</td>\n",
              "      <td>0.006009</td>\n",
              "      <td>-0.002929</td>\n",
              "    </tr>\n",
              "    <tr>\n",
              "      <th>job_unemployed</th>\n",
              "      <td>0.000412</td>\n",
              "      <td>0.006470</td>\n",
              "      <td>0.009023</td>\n",
              "      <td>-0.048229</td>\n",
              "      <td>-0.035961</td>\n",
              "      <td>0.020322</td>\n",
              "      <td>-0.018448</td>\n",
              "      <td>-0.010411</td>\n",
              "      <td>-0.008504</td>\n",
              "      <td>-0.061907</td>\n",
              "      <td>...</td>\n",
              "      <td>0.009506</td>\n",
              "      <td>0.011745</td>\n",
              "      <td>0.015688</td>\n",
              "      <td>-0.027371</td>\n",
              "      <td>0.013007</td>\n",
              "      <td>-0.018464</td>\n",
              "      <td>0.008759</td>\n",
              "      <td>-0.012438</td>\n",
              "      <td>0.003334</td>\n",
              "      <td>0.015044</td>\n",
              "    </tr>\n",
              "    <tr>\n",
              "      <th>marital_divorced</th>\n",
              "      <td>0.164674</td>\n",
              "      <td>0.017777</td>\n",
              "      <td>-0.021732</td>\n",
              "      <td>0.001778</td>\n",
              "      <td>0.016377</td>\n",
              "      <td>0.006100</td>\n",
              "      <td>-0.015484</td>\n",
              "      <td>0.002897</td>\n",
              "      <td>-0.004534</td>\n",
              "      <td>0.033624</td>\n",
              "      <td>...</td>\n",
              "      <td>-0.226602</td>\n",
              "      <td>-0.014392</td>\n",
              "      <td>0.019795</td>\n",
              "      <td>-0.009259</td>\n",
              "      <td>-0.006786</td>\n",
              "      <td>0.016904</td>\n",
              "      <td>-0.017993</td>\n",
              "      <td>-0.001884</td>\n",
              "      <td>0.006053</td>\n",
              "      <td>-0.008490</td>\n",
              "    </tr>\n",
              "    <tr>\n",
              "      <th>marital_married</th>\n",
              "      <td>0.286257</td>\n",
              "      <td>-0.014460</td>\n",
              "      <td>0.025708</td>\n",
              "      <td>0.017681</td>\n",
              "      <td>0.036906</td>\n",
              "      <td>-0.022683</td>\n",
              "      <td>0.031371</td>\n",
              "      <td>-0.027600</td>\n",
              "      <td>-0.012691</td>\n",
              "      <td>-0.059572</td>\n",
              "      <td>...</td>\n",
              "      <td>-0.772357</td>\n",
              "      <td>0.133418</td>\n",
              "      <td>-0.017724</td>\n",
              "      <td>-0.096019</td>\n",
              "      <td>-0.043477</td>\n",
              "      <td>0.019342</td>\n",
              "      <td>0.048970</td>\n",
              "      <td>-0.004516</td>\n",
              "      <td>0.013547</td>\n",
              "      <td>-0.018484</td>\n",
              "    </tr>\n",
              "    <tr>\n",
              "      <th>marital_single</th>\n",
              "      <td>-0.427817</td>\n",
              "      <td>0.003115</td>\n",
              "      <td>-0.012537</td>\n",
              "      <td>-0.020475</td>\n",
              "      <td>-0.051716</td>\n",
              "      <td>0.020328</td>\n",
              "      <td>-0.023120</td>\n",
              "      <td>0.027943</td>\n",
              "      <td>0.017006</td>\n",
              "      <td>0.040912</td>\n",
              "      <td>...</td>\n",
              "      <td>1.000000</td>\n",
              "      <td>-0.134798</td>\n",
              "      <td>0.005232</td>\n",
              "      <td>0.110915</td>\n",
              "      <td>0.052061</td>\n",
              "      <td>-0.033001</td>\n",
              "      <td>-0.040468</td>\n",
              "      <td>0.006244</td>\n",
              "      <td>-0.019013</td>\n",
              "      <td>0.026105</td>\n",
              "    </tr>\n",
              "    <tr>\n",
              "      <th>education_primary</th>\n",
              "      <td>0.213442</td>\n",
              "      <td>0.000853</td>\n",
              "      <td>-0.008423</td>\n",
              "      <td>-0.014250</td>\n",
              "      <td>-0.036431</td>\n",
              "      <td>-0.003671</td>\n",
              "      <td>0.011614</td>\n",
              "      <td>-0.019273</td>\n",
              "      <td>-0.019345</td>\n",
              "      <td>-0.108555</td>\n",
              "      <td>...</td>\n",
              "      <td>-0.134798</td>\n",
              "      <td>1.000000</td>\n",
              "      <td>-0.501484</td>\n",
              "      <td>-0.315336</td>\n",
              "      <td>-0.127111</td>\n",
              "      <td>0.090452</td>\n",
              "      <td>0.080569</td>\n",
              "      <td>-0.022366</td>\n",
              "      <td>0.032316</td>\n",
              "      <td>-0.024039</td>\n",
              "    </tr>\n",
              "    <tr>\n",
              "      <th>education_secondary</th>\n",
              "      <td>-0.093979</td>\n",
              "      <td>0.013220</td>\n",
              "      <td>-0.069937</td>\n",
              "      <td>0.101659</td>\n",
              "      <td>0.070625</td>\n",
              "      <td>0.002084</td>\n",
              "      <td>-0.020893</td>\n",
              "      <td>0.022105</td>\n",
              "      <td>-0.005603</td>\n",
              "      <td>0.217639</td>\n",
              "      <td>...</td>\n",
              "      <td>0.005232</td>\n",
              "      <td>-0.501484</td>\n",
              "      <td>1.000000</td>\n",
              "      <td>-0.662890</td>\n",
              "      <td>-0.031579</td>\n",
              "      <td>0.045659</td>\n",
              "      <td>-0.022797</td>\n",
              "      <td>0.010510</td>\n",
              "      <td>0.003374</td>\n",
              "      <td>-0.024728</td>\n",
              "    </tr>\n",
              "    <tr>\n",
              "      <th>education_tertiary</th>\n",
              "      <td>-0.081629</td>\n",
              "      <td>-0.015239</td>\n",
              "      <td>0.084001</td>\n",
              "      <td>-0.099175</td>\n",
              "      <td>-0.045940</td>\n",
              "      <td>0.000891</td>\n",
              "      <td>0.012866</td>\n",
              "      <td>-0.007568</td>\n",
              "      <td>0.022888</td>\n",
              "      <td>-0.144780</td>\n",
              "      <td>...</td>\n",
              "      <td>0.110915</td>\n",
              "      <td>-0.315336</td>\n",
              "      <td>-0.662890</td>\n",
              "      <td>1.000000</td>\n",
              "      <td>0.144641</td>\n",
              "      <td>-0.128359</td>\n",
              "      <td>-0.044719</td>\n",
              "      <td>0.007827</td>\n",
              "      <td>-0.031667</td>\n",
              "      <td>0.047927</td>\n",
              "    </tr>\n",
              "    <tr>\n",
              "      <th>contact_cellular</th>\n",
              "      <td>-0.068375</td>\n",
              "      <td>-0.010061</td>\n",
              "      <td>0.015880</td>\n",
              "      <td>-0.156071</td>\n",
              "      <td>0.013604</td>\n",
              "      <td>0.025543</td>\n",
              "      <td>-0.032271</td>\n",
              "      <td>0.225996</td>\n",
              "      <td>0.131717</td>\n",
              "      <td>0.000660</td>\n",
              "      <td>...</td>\n",
              "      <td>0.052061</td>\n",
              "      <td>-0.127111</td>\n",
              "      <td>-0.031579</td>\n",
              "      <td>0.144641</td>\n",
              "      <td>1.000000</td>\n",
              "      <td>-0.862398</td>\n",
              "      <td>-0.355403</td>\n",
              "      <td>0.201732</td>\n",
              "      <td>-0.233692</td>\n",
              "      <td>0.104665</td>\n",
              "    </tr>\n",
              "    <tr>\n",
              "      <th>contact_empty</th>\n",
              "      <td>-0.020132</td>\n",
              "      <td>0.019933</td>\n",
              "      <td>-0.037331</td>\n",
              "      <td>0.208409</td>\n",
              "      <td>-0.007211</td>\n",
              "      <td>-0.014379</td>\n",
              "      <td>0.004853</td>\n",
              "      <td>-0.247068</td>\n",
              "      <td>-0.154162</td>\n",
              "      <td>0.005961</td>\n",
              "      <td>...</td>\n",
              "      <td>-0.033001</td>\n",
              "      <td>0.090452</td>\n",
              "      <td>0.045659</td>\n",
              "      <td>-0.128359</td>\n",
              "      <td>-0.862398</td>\n",
              "      <td>1.000000</td>\n",
              "      <td>-0.166683</td>\n",
              "      <td>-0.216885</td>\n",
              "      <td>0.252518</td>\n",
              "      <td>-0.114997</td>\n",
              "    </tr>\n",
              "    <tr>\n",
              "      <th>contact_telephone</th>\n",
              "      <td>0.170349</td>\n",
              "      <td>-0.017208</td>\n",
              "      <td>0.037999</td>\n",
              "      <td>-0.080822</td>\n",
              "      <td>-0.013183</td>\n",
              "      <td>-0.023201</td>\n",
              "      <td>0.053895</td>\n",
              "      <td>0.016006</td>\n",
              "      <td>0.028097</td>\n",
              "      <td>-0.012291</td>\n",
              "      <td>...</td>\n",
              "      <td>-0.040468</td>\n",
              "      <td>0.080569</td>\n",
              "      <td>-0.022797</td>\n",
              "      <td>-0.044719</td>\n",
              "      <td>-0.355403</td>\n",
              "      <td>-0.166683</td>\n",
              "      <td>1.000000</td>\n",
              "      <td>0.007537</td>\n",
              "      <td>-0.011080</td>\n",
              "      <td>0.008470</td>\n",
              "    </tr>\n",
              "    <tr>\n",
              "      <th>poutcome_failure</th>\n",
              "      <td>-0.004927</td>\n",
              "      <td>-0.026389</td>\n",
              "      <td>0.011857</td>\n",
              "      <td>0.106795</td>\n",
              "      <td>-0.002186</td>\n",
              "      <td>-0.018925</td>\n",
              "      <td>-0.088131</td>\n",
              "      <td>0.701052</td>\n",
              "      <td>0.350627</td>\n",
              "      <td>0.018431</td>\n",
              "      <td>...</td>\n",
              "      <td>0.006244</td>\n",
              "      <td>-0.022366</td>\n",
              "      <td>0.010510</td>\n",
              "      <td>0.007827</td>\n",
              "      <td>0.201732</td>\n",
              "      <td>-0.216885</td>\n",
              "      <td>0.007537</td>\n",
              "      <td>1.000000</td>\n",
              "      <td>-0.857728</td>\n",
              "      <td>-0.064838</td>\n",
              "    </tr>\n",
              "    <tr>\n",
              "      <th>poutcome_other</th>\n",
              "      <td>-0.013912</td>\n",
              "      <td>0.035542</td>\n",
              "      <td>-0.028721</td>\n",
              "      <td>-0.048101</td>\n",
              "      <td>0.029620</td>\n",
              "      <td>-0.004974</td>\n",
              "      <td>0.108153</td>\n",
              "      <td>-0.742470</td>\n",
              "      <td>-0.416226</td>\n",
              "      <td>-0.022636</td>\n",
              "      <td>...</td>\n",
              "      <td>-0.019013</td>\n",
              "      <td>0.032316</td>\n",
              "      <td>0.003374</td>\n",
              "      <td>-0.031667</td>\n",
              "      <td>-0.233692</td>\n",
              "      <td>0.252518</td>\n",
              "      <td>-0.011080</td>\n",
              "      <td>-0.857728</td>\n",
              "      <td>1.000000</td>\n",
              "      <td>-0.457409</td>\n",
              "    </tr>\n",
              "    <tr>\n",
              "      <th>poutcome_success</th>\n",
              "      <td>0.035526</td>\n",
              "      <td>-0.023344</td>\n",
              "      <td>0.035240</td>\n",
              "      <td>-0.091360</td>\n",
              "      <td>-0.053713</td>\n",
              "      <td>0.042389</td>\n",
              "      <td>-0.057486</td>\n",
              "      <td>0.228539</td>\n",
              "      <td>0.201424</td>\n",
              "      <td>0.012056</td>\n",
              "      <td>...</td>\n",
              "      <td>0.026105</td>\n",
              "      <td>-0.024039</td>\n",
              "      <td>-0.024728</td>\n",
              "      <td>0.047927</td>\n",
              "      <td>0.104665</td>\n",
              "      <td>-0.114997</td>\n",
              "      <td>0.008470</td>\n",
              "      <td>-0.064838</td>\n",
              "      <td>-0.457409</td>\n",
              "      <td>1.000000</td>\n",
              "    </tr>\n",
              "  </tbody>\n",
              "</table>\n",
              "<p>33 rows × 33 columns</p>\n",
              "</div>\n",
              "    <div class=\"colab-df-buttons\">\n",
              "\n",
              "  <div class=\"colab-df-container\">\n",
              "    <button class=\"colab-df-convert\" onclick=\"convertToInteractive('df-2a587da1-4cf0-4d58-8961-8692368d792a')\"\n",
              "            title=\"Convert this dataframe to an interactive table.\"\n",
              "            style=\"display:none;\">\n",
              "\n",
              "  <svg xmlns=\"http://www.w3.org/2000/svg\" height=\"24px\" viewBox=\"0 -960 960 960\">\n",
              "    <path d=\"M120-120v-720h720v720H120Zm60-500h600v-160H180v160Zm220 220h160v-160H400v160Zm0 220h160v-160H400v160ZM180-400h160v-160H180v160Zm440 0h160v-160H620v160ZM180-180h160v-160H180v160Zm440 0h160v-160H620v160Z\"/>\n",
              "  </svg>\n",
              "    </button>\n",
              "\n",
              "  <style>\n",
              "    .colab-df-container {\n",
              "      display:flex;\n",
              "      gap: 12px;\n",
              "    }\n",
              "\n",
              "    .colab-df-convert {\n",
              "      background-color: #E8F0FE;\n",
              "      border: none;\n",
              "      border-radius: 50%;\n",
              "      cursor: pointer;\n",
              "      display: none;\n",
              "      fill: #1967D2;\n",
              "      height: 32px;\n",
              "      padding: 0 0 0 0;\n",
              "      width: 32px;\n",
              "    }\n",
              "\n",
              "    .colab-df-convert:hover {\n",
              "      background-color: #E2EBFA;\n",
              "      box-shadow: 0px 1px 2px rgba(60, 64, 67, 0.3), 0px 1px 3px 1px rgba(60, 64, 67, 0.15);\n",
              "      fill: #174EA6;\n",
              "    }\n",
              "\n",
              "    .colab-df-buttons div {\n",
              "      margin-bottom: 4px;\n",
              "    }\n",
              "\n",
              "    [theme=dark] .colab-df-convert {\n",
              "      background-color: #3B4455;\n",
              "      fill: #D2E3FC;\n",
              "    }\n",
              "\n",
              "    [theme=dark] .colab-df-convert:hover {\n",
              "      background-color: #434B5C;\n",
              "      box-shadow: 0px 1px 3px 1px rgba(0, 0, 0, 0.15);\n",
              "      filter: drop-shadow(0px 1px 2px rgba(0, 0, 0, 0.3));\n",
              "      fill: #FFFFFF;\n",
              "    }\n",
              "  </style>\n",
              "\n",
              "    <script>\n",
              "      const buttonEl =\n",
              "        document.querySelector('#df-2a587da1-4cf0-4d58-8961-8692368d792a button.colab-df-convert');\n",
              "      buttonEl.style.display =\n",
              "        google.colab.kernel.accessAllowed ? 'block' : 'none';\n",
              "\n",
              "      async function convertToInteractive(key) {\n",
              "        const element = document.querySelector('#df-2a587da1-4cf0-4d58-8961-8692368d792a');\n",
              "        const dataTable =\n",
              "          await google.colab.kernel.invokeFunction('convertToInteractive',\n",
              "                                                    [key], {});\n",
              "        if (!dataTable) return;\n",
              "\n",
              "        const docLinkHtml = 'Like what you see? Visit the ' +\n",
              "          '<a target=\"_blank\" href=https://colab.research.google.com/notebooks/data_table.ipynb>data table notebook</a>'\n",
              "          + ' to learn more about interactive tables.';\n",
              "        element.innerHTML = '';\n",
              "        dataTable['output_type'] = 'display_data';\n",
              "        await google.colab.output.renderOutput(dataTable, element);\n",
              "        const docLink = document.createElement('div');\n",
              "        docLink.innerHTML = docLinkHtml;\n",
              "        element.appendChild(docLink);\n",
              "      }\n",
              "    </script>\n",
              "  </div>\n",
              "\n",
              "\n",
              "<div id=\"df-70cfc466-ab38-4d94-9ef8-db14e4499d1f\">\n",
              "  <button class=\"colab-df-quickchart\" onclick=\"quickchart('df-70cfc466-ab38-4d94-9ef8-db14e4499d1f')\"\n",
              "            title=\"Suggest charts\"\n",
              "            style=\"display:none;\">\n",
              "\n",
              "<svg xmlns=\"http://www.w3.org/2000/svg\" height=\"24px\"viewBox=\"0 0 24 24\"\n",
              "     width=\"24px\">\n",
              "    <g>\n",
              "        <path d=\"M19 3H5c-1.1 0-2 .9-2 2v14c0 1.1.9 2 2 2h14c1.1 0 2-.9 2-2V5c0-1.1-.9-2-2-2zM9 17H7v-7h2v7zm4 0h-2V7h2v10zm4 0h-2v-4h2v4z\"/>\n",
              "    </g>\n",
              "</svg>\n",
              "  </button>\n",
              "\n",
              "<style>\n",
              "  .colab-df-quickchart {\n",
              "      --bg-color: #E8F0FE;\n",
              "      --fill-color: #1967D2;\n",
              "      --hover-bg-color: #E2EBFA;\n",
              "      --hover-fill-color: #174EA6;\n",
              "      --disabled-fill-color: #AAA;\n",
              "      --disabled-bg-color: #DDD;\n",
              "  }\n",
              "\n",
              "  [theme=dark] .colab-df-quickchart {\n",
              "      --bg-color: #3B4455;\n",
              "      --fill-color: #D2E3FC;\n",
              "      --hover-bg-color: #434B5C;\n",
              "      --hover-fill-color: #FFFFFF;\n",
              "      --disabled-bg-color: #3B4455;\n",
              "      --disabled-fill-color: #666;\n",
              "  }\n",
              "\n",
              "  .colab-df-quickchart {\n",
              "    background-color: var(--bg-color);\n",
              "    border: none;\n",
              "    border-radius: 50%;\n",
              "    cursor: pointer;\n",
              "    display: none;\n",
              "    fill: var(--fill-color);\n",
              "    height: 32px;\n",
              "    padding: 0;\n",
              "    width: 32px;\n",
              "  }\n",
              "\n",
              "  .colab-df-quickchart:hover {\n",
              "    background-color: var(--hover-bg-color);\n",
              "    box-shadow: 0 1px 2px rgba(60, 64, 67, 0.3), 0 1px 3px 1px rgba(60, 64, 67, 0.15);\n",
              "    fill: var(--button-hover-fill-color);\n",
              "  }\n",
              "\n",
              "  .colab-df-quickchart-complete:disabled,\n",
              "  .colab-df-quickchart-complete:disabled:hover {\n",
              "    background-color: var(--disabled-bg-color);\n",
              "    fill: var(--disabled-fill-color);\n",
              "    box-shadow: none;\n",
              "  }\n",
              "\n",
              "  .colab-df-spinner {\n",
              "    border: 2px solid var(--fill-color);\n",
              "    border-color: transparent;\n",
              "    border-bottom-color: var(--fill-color);\n",
              "    animation:\n",
              "      spin 1s steps(1) infinite;\n",
              "  }\n",
              "\n",
              "  @keyframes spin {\n",
              "    0% {\n",
              "      border-color: transparent;\n",
              "      border-bottom-color: var(--fill-color);\n",
              "      border-left-color: var(--fill-color);\n",
              "    }\n",
              "    20% {\n",
              "      border-color: transparent;\n",
              "      border-left-color: var(--fill-color);\n",
              "      border-top-color: var(--fill-color);\n",
              "    }\n",
              "    30% {\n",
              "      border-color: transparent;\n",
              "      border-left-color: var(--fill-color);\n",
              "      border-top-color: var(--fill-color);\n",
              "      border-right-color: var(--fill-color);\n",
              "    }\n",
              "    40% {\n",
              "      border-color: transparent;\n",
              "      border-right-color: var(--fill-color);\n",
              "      border-top-color: var(--fill-color);\n",
              "    }\n",
              "    60% {\n",
              "      border-color: transparent;\n",
              "      border-right-color: var(--fill-color);\n",
              "    }\n",
              "    80% {\n",
              "      border-color: transparent;\n",
              "      border-right-color: var(--fill-color);\n",
              "      border-bottom-color: var(--fill-color);\n",
              "    }\n",
              "    90% {\n",
              "      border-color: transparent;\n",
              "      border-bottom-color: var(--fill-color);\n",
              "    }\n",
              "  }\n",
              "</style>\n",
              "\n",
              "  <script>\n",
              "    async function quickchart(key) {\n",
              "      const quickchartButtonEl =\n",
              "        document.querySelector('#' + key + ' button');\n",
              "      quickchartButtonEl.disabled = true;  // To prevent multiple clicks.\n",
              "      quickchartButtonEl.classList.add('colab-df-spinner');\n",
              "      try {\n",
              "        const charts = await google.colab.kernel.invokeFunction(\n",
              "            'suggestCharts', [key], {});\n",
              "      } catch (error) {\n",
              "        console.error('Error during call to suggestCharts:', error);\n",
              "      }\n",
              "      quickchartButtonEl.classList.remove('colab-df-spinner');\n",
              "      quickchartButtonEl.classList.add('colab-df-quickchart-complete');\n",
              "    }\n",
              "    (() => {\n",
              "      let quickchartButtonEl =\n",
              "        document.querySelector('#df-70cfc466-ab38-4d94-9ef8-db14e4499d1f button');\n",
              "      quickchartButtonEl.style.display =\n",
              "        google.colab.kernel.accessAllowed ? 'block' : 'none';\n",
              "    })();\n",
              "  </script>\n",
              "</div>\n",
              "    </div>\n",
              "  </div>\n"
            ],
            "application/vnd.google.colaboratory.intrinsic+json": {
              "type": "dataframe",
              "variable_name": "corr_matrix"
            }
          },
          "metadata": {},
          "execution_count": 30
        }
      ]
    },
    {
      "cell_type": "code",
      "source": [
        "# Нахождение коррелированных переменных\n",
        "corr_threshold = 0.8\n",
        "high_corr_pairs = [(i, j) for i in corr_matrix.columns for j in corr_matrix.columns if i != j and abs(corr_matrix.loc[i, j]) > corr_threshold]\n",
        "print(high_corr_pairs)"
      ],
      "metadata": {
        "colab": {
          "base_uri": "https://localhost:8080/"
        },
        "id": "ym31DzpNH8gT",
        "outputId": "68f48ceb-87dd-4970-e018-90b59c5332c9"
      },
      "execution_count": 31,
      "outputs": [
        {
          "output_type": "stream",
          "name": "stdout",
          "text": [
            "[('contact_cellular', 'contact_empty'), ('contact_empty', 'contact_cellular'), ('poutcome_failure', 'poutcome_other'), ('poutcome_other', 'poutcome_failure')]\n"
          ]
        }
      ]
    },
    {
      "cell_type": "code",
      "source": [
        "# Преобразование пар в уникальные (то есть теперь пары ('a','b') и ('b','a') будут эквивалентны)\n",
        "unique_pairs = set(frozenset(pair) for pair in high_corr_pairs)\n",
        "unique_pairs = [tuple(pair) for pair in unique_pairs]\n",
        "print(unique_pairs)"
      ],
      "metadata": {
        "colab": {
          "base_uri": "https://localhost:8080/"
        },
        "id": "RjKd4CqzUKgn",
        "outputId": "981331eb-c281-4276-d719-abcb21cb924d"
      },
      "execution_count": 32,
      "outputs": [
        {
          "output_type": "stream",
          "name": "stdout",
          "text": [
            "[('contact_empty', 'contact_cellular'), ('poutcome_other', 'poutcome_failure')]\n"
          ]
        }
      ]
    },
    {
      "cell_type": "code",
      "source": [
        "# Удаление коррелированных переменных\n",
        "X_scaled_df = pd.DataFrame(X_scaled, columns=X.columns)\n",
        "columns_to_drop = {pair[1] for pair in unique_pairs}\n",
        "X_reduced = X_scaled_df.drop(columns=columns_to_drop)\n",
        "print(X_reduced)"
      ],
      "metadata": {
        "colab": {
          "base_uri": "https://localhost:8080/"
        },
        "id": "x5gG0fiLIQ8I",
        "outputId": "aebc73a8-ca2e-4c6b-cfad-bd6f83e69e80"
      },
      "execution_count": 33,
      "outputs": [
        {
          "output_type": "stream",
          "name": "stdout",
          "text": [
            "            age  default   balance   housing      loan  duration  campaign  \\\n",
            "0      1.606965 -0.13549  0.256419  0.893915 -0.436803  0.011016 -0.569351   \n",
            "1      0.288529 -0.13549 -0.437895  0.893915 -0.436803 -0.416127 -0.569351   \n",
            "2     -0.747384 -0.13549 -0.446762  0.893915  2.289359 -0.707361 -0.569351   \n",
            "3      0.571051 -0.13549  0.047205  0.893915 -0.436803 -0.645231 -0.569351   \n",
            "4     -0.747384 -0.13549 -0.447091 -1.118674 -0.436803 -0.233620 -0.569351   \n",
            "...         ...      ...       ...       ...       ...       ...       ...   \n",
            "45206  0.947747 -0.13549 -0.176460 -1.118674 -0.436803  2.791329  0.076230   \n",
            "45207  2.831227 -0.13549  0.120447 -1.118674 -0.436803  0.768224 -0.246560   \n",
            "45208  2.925401 -0.13549  1.429593 -1.118674 -0.436803  3.373797  0.721811   \n",
            "45209  1.512791 -0.13549 -0.228024 -1.118674 -0.436803  0.970146  0.399020   \n",
            "45210 -0.370689 -0.13549  0.528364 -1.118674 -0.436803  0.399328 -0.246560   \n",
            "\n",
            "          pdays  previous  job_admin.  ...  marital_divorced  marital_married  \\\n",
            "0     -0.411453 -0.251940   -0.359369  ...         -0.360780         0.813212   \n",
            "1     -0.411453 -0.251940   -0.359369  ...         -0.360780        -1.229691   \n",
            "2     -0.411453 -0.251940   -0.359369  ...         -0.360780         0.813212   \n",
            "3     -0.411453 -0.251940   -0.359369  ...         -0.360780         0.813212   \n",
            "4     -0.411453 -0.251940   -0.359369  ...         -0.360780        -1.229691   \n",
            "...         ...       ...         ...  ...               ...              ...   \n",
            "45206 -0.411453 -0.251940   -0.359369  ...         -0.360780         0.813212   \n",
            "45207 -0.411453 -0.251940   -0.359369  ...          2.771775        -1.229691   \n",
            "45208  1.436189  1.050473   -0.359369  ...         -0.360780         0.813212   \n",
            "45209 -0.411453 -0.251940   -0.359369  ...         -0.360780         0.813212   \n",
            "45210  1.476138  4.523577   -0.359369  ...         -0.360780         0.813212   \n",
            "\n",
            "       marital_single  education_primary  education_secondary  \\\n",
            "0           -0.628090          -0.488422            -1.026745   \n",
            "1            1.592128          -0.488422             0.973952   \n",
            "2           -0.628090          -0.488422             0.973952   \n",
            "3           -0.628090           2.047411            -1.026745   \n",
            "4            1.592128           2.047411            -1.026745   \n",
            "...               ...                ...                  ...   \n",
            "45206       -0.628090          -0.488422            -1.026745   \n",
            "45207       -0.628090           2.047411            -1.026745   \n",
            "45208       -0.628090          -0.488422             0.973952   \n",
            "45209       -0.628090          -0.488422             0.973952   \n",
            "45210       -0.628090          -0.488422             0.973952   \n",
            "\n",
            "       education_tertiary  contact_empty  contact_telephone  poutcome_other  \\\n",
            "0                1.548892       1.572395          -0.262091        0.406524   \n",
            "1               -0.645623       1.572395          -0.262091        0.406524   \n",
            "2               -0.645623       1.572395          -0.262091        0.406524   \n",
            "3               -0.645623       1.572395          -0.262091        0.406524   \n",
            "4               -0.645623       1.572395          -0.262091        0.406524   \n",
            "...                   ...            ...                ...             ...   \n",
            "45206            1.548892      -0.635972          -0.262091        0.406524   \n",
            "45207           -0.645623      -0.635972          -0.262091        0.406524   \n",
            "45208           -0.645623      -0.635972          -0.262091       -2.459878   \n",
            "45209           -0.645623      -0.635972           3.815470        0.406524   \n",
            "45210           -0.645623      -0.635972          -0.262091        0.406524   \n",
            "\n",
            "       poutcome_success  \n",
            "0             -0.185948  \n",
            "1             -0.185948  \n",
            "2             -0.185948  \n",
            "3             -0.185948  \n",
            "4             -0.185948  \n",
            "...                 ...  \n",
            "45206         -0.185948  \n",
            "45207         -0.185948  \n",
            "45208          5.377848  \n",
            "45209         -0.185948  \n",
            "45210         -0.185948  \n",
            "\n",
            "[45211 rows x 31 columns]\n"
          ]
        }
      ]
    },
    {
      "cell_type": "code",
      "source": [
        "X_train, X_test, y_train, y_test = train_test_split(X_reduced, y, test_size=0.2, random_state=42)"
      ],
      "metadata": {
        "id": "DUij8grxIdw7"
      },
      "execution_count": 34,
      "outputs": []
    },
    {
      "cell_type": "markdown",
      "source": [
        "###Применение новых данных для обучения моделей"
      ],
      "metadata": {
        "id": "lfH2z1QBM5Wv"
      }
    },
    {
      "cell_type": "code",
      "source": [
        "n_neighbors = 3\n",
        "knn_regressor = KNeighborsRegressor(n_neighbors=n_neighbors)\n",
        "knn_regressor.fit(X_train, y_train)\n",
        "\n",
        "# Предсказание на обучающей выборке\n",
        "y_train_pred = knn_regressor.predict(X_train).astype(int)\n",
        "# Предсказание на тестовой выборке\n",
        "y_test_pred = knn_regressor.predict(X_test).astype(int)\n",
        "\n",
        "print(f\"Среднеквадратичная ошибка на обучающей выборке: {mean_squared_error(y_train, y_train_pred):.5f}\")\n",
        "print(f\"Среднеквадратичная ошибка на тестовой выборке: {mean_squared_error(y_test, y_test_pred):.5f}\")\n",
        "print(\"Матрица рассогласования:\\n\", confusion_matrix(y_test, y_test_pred))"
      ],
      "metadata": {
        "colab": {
          "base_uri": "https://localhost:8080/"
        },
        "id": "EnPzQQJkM2cF",
        "outputId": "5a93a2b3-4cd6-4853-9dbd-d8f533b80ea6"
      },
      "execution_count": 35,
      "outputs": [
        {
          "output_type": "stream",
          "name": "stdout",
          "text": [
            "Среднеквадратичная ошибка на обучающей выборке: 0.09475\n",
            "Среднеквадратичная ошибка на тестовой выборке: 0.11423\n",
            "Матрица рассогласования:\n",
            " [[7876   76]\n",
            " [ 957  134]]\n"
          ]
        }
      ]
    },
    {
      "cell_type": "code",
      "source": [
        "clf = LogisticRegression(random_state=42, max_iter=1000)\n",
        "clf.fit(X_train, y_train.values.ravel())\n",
        "\n",
        "y_train_pred = clf.predict(X_train)\n",
        "y_test_pred = clf.predict(X_test)\n",
        "mse_train_clf = mean_squared_error(y_train, y_train_pred)\n",
        "mse_test_clf = mean_squared_error(y_test, y_test_pred)\n",
        "\n",
        "print(f\"Среднеквадратичная ошибка на обучающей выборке: {mse_train_clf:.5f}\")\n",
        "print(f\"Среднеквадратичная ошибка на тестовой выборке: {mse_test_clf:.5f}\")\n",
        "print(\"Матрица рассогласования:\\n\", confusion_matrix(y_test, y_test_pred))"
      ],
      "metadata": {
        "colab": {
          "base_uri": "https://localhost:8080/"
        },
        "id": "es4Gjg2JMcH4",
        "outputId": "6d4cb189-baac-487a-ef10-a3f7c459ac20"
      },
      "execution_count": 36,
      "outputs": [
        {
          "output_type": "stream",
          "name": "stdout",
          "text": [
            "Среднеквадратичная ошибка на обучающей выборке: 0.09907\n",
            "Среднеквадратичная ошибка на тестовой выборке: 0.10074\n",
            "Матрица рассогласования:\n",
            " [[7769  183]\n",
            " [ 728  363]]\n"
          ]
        }
      ]
    },
    {
      "cell_type": "code",
      "source": [
        "from sklearn.ensemble import RandomForestClassifier\n",
        "\n",
        "rfc = RandomForestClassifier()\n",
        "rfc.fit(X_train, y_train.values.ravel())\n",
        "\n",
        "y_train_pred = rfc.predict(X_train)\n",
        "y_test_pred = rfc.predict(X_test)\n",
        "mse_train_rfc = mean_squared_error(y_train, y_train_pred)\n",
        "mse_test_rfc = mean_squared_error(y_test, y_test_pred)\n",
        "\n",
        "print(f\"Среднеквадратичная ошибка на обучающей выборке: {mse_train_rfc:.5f}\")\n",
        "print(f\"Среднеквадратичная ошибка на тестовой выборке: {mse_test_rfc:.5f}\")\n",
        "print(\"Матрица рассогласования:\\n\", confusion_matrix(y_test, y_test_pred))"
      ],
      "metadata": {
        "colab": {
          "base_uri": "https://localhost:8080/"
        },
        "id": "czT5KLQ0KPQl",
        "outputId": "034736ca-29e0-4742-97cd-8820a218fcc5"
      },
      "execution_count": 37,
      "outputs": [
        {
          "output_type": "stream",
          "name": "stdout",
          "text": [
            "Среднеквадратичная ошибка на обучающей выборке: 0.00000\n",
            "Среднеквадратичная ошибка на тестовой выборке: 0.10185\n",
            "Матрица рассогласования:\n",
            " [[7725  227]\n",
            " [ 694  397]]\n"
          ]
        }
      ]
    },
    {
      "cell_type": "markdown",
      "source": [
        "###Вывод\n",
        "На моих данных удаление коррелированных переменных привело к незначительному улучшению работы каждой из моделей, хоть задача и решалась для несбалансированных данных. Стоит отметить, что коррелированные переменные не несут в себе идентичную информацию, из-за чего после удаления одной из них возможно убирались бы полезные признаки, которые помогали отличать редкий класс от часто встречаемого. Но этого не произошло и в итоге преобразования данных немного улучшили качество определения не только редкого, но и часто встречаемого класса для отдельных моделей."
      ],
      "metadata": {
        "id": "E9Mgk6bAL_Y0"
      }
    },
    {
      "cell_type": "markdown",
      "source": [
        "##Общий вывод\n",
        "В целом задача машинного обучения для выбранных данных показывает не очень хорошие результаты. Для корректной работы классификаторов требуется перебор большого числа параметров самих моделей. Это нужно для исключения возможного переобучения и неправильных приоритетов в пользу часто встречаемого класса."
      ],
      "metadata": {
        "id": "jQ_O3ZPJOY0B"
      }
    }
  ],
  "metadata": {
    "colab": {
      "collapsed_sections": [
        "2cgScMYvJ0iu"
      ],
      "provenance": [],
      "authorship_tag": "ABX9TyM3Epli+SxXLcwbQR7tm6CR"
    },
    "kernelspec": {
      "display_name": "Python 3",
      "name": "python3"
    },
    "language_info": {
      "name": "python"
    }
  },
  "nbformat": 4,
  "nbformat_minor": 0
}